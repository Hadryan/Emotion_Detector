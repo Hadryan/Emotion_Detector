{
  "nbformat": 4,
  "nbformat_minor": 0,
  "metadata": {
    "colab": {
      "name": "multiClassifier-code4 -Hierarchical new- 6 classes -good .ipynb",
      "provenance": [],
      "collapsed_sections": []
    },
    "kernelspec": {
      "name": "python3",
      "display_name": "Python 3"
    },
    "accelerator": "GPU"
  },
  "cells": [
    {
      "cell_type": "code",
      "metadata": {
        "id": "T267CerGRSlr",
        "colab_type": "code",
        "colab": {
          "base_uri": "https://localhost:8080/",
          "height": 195
        },
        "outputId": "7985922e-d70e-4b8a-d40e-5760d4660a1b"
      },
      "source": [
        "pip install conda"
      ],
      "execution_count": 1,
      "outputs": [
        {
          "output_type": "stream",
          "text": [
            "Requirement already satisfied: conda in /usr/local/lib/python3.6/dist-packages (4.3.16)\n",
            "Requirement already satisfied: ruamel.yaml>=0.11.14 in /usr/local/lib/python3.6/dist-packages (from conda) (0.16.10)\n",
            "Requirement already satisfied: pycosat>=0.6.1 in /usr/local/lib/python3.6/dist-packages (from conda) (0.6.3)\n",
            "Requirement already satisfied: requests>=2.12.4 in /usr/local/lib/python3.6/dist-packages (from conda) (2.23.0)\n",
            "Requirement already satisfied: ruamel.yaml.clib>=0.1.2; platform_python_implementation == \"CPython\" and python_version < \"3.9\" in /usr/local/lib/python3.6/dist-packages (from ruamel.yaml>=0.11.14->conda) (0.2.0)\n",
            "Requirement already satisfied: idna<3,>=2.5 in /usr/local/lib/python3.6/dist-packages (from requests>=2.12.4->conda) (2.9)\n",
            "Requirement already satisfied: urllib3!=1.25.0,!=1.25.1,<1.26,>=1.21.1 in /usr/local/lib/python3.6/dist-packages (from requests>=2.12.4->conda) (1.24.3)\n",
            "Requirement already satisfied: chardet<4,>=3.0.2 in /usr/local/lib/python3.6/dist-packages (from requests>=2.12.4->conda) (3.0.4)\n",
            "Requirement already satisfied: certifi>=2017.4.17 in /usr/local/lib/python3.6/dist-packages (from requests>=2.12.4->conda) (2020.6.20)\n"
          ],
          "name": "stdout"
        }
      ]
    },
    {
      "cell_type": "code",
      "metadata": {
        "id": "qFw_sW4DRbzK",
        "colab_type": "code",
        "colab": {
          "base_uri": "https://localhost:8080/",
          "height": 70
        },
        "outputId": "62bf719d-0fbd-44d0-859b-0e0226774fb9"
      },
      "source": [
        "pip install pysoundfile"
      ],
      "execution_count": 2,
      "outputs": [
        {
          "output_type": "stream",
          "text": [
            "Requirement already satisfied: pysoundfile in /usr/local/lib/python3.6/dist-packages (0.9.0.post1)\n",
            "Requirement already satisfied: cffi>=0.6 in /usr/local/lib/python3.6/dist-packages (from pysoundfile) (1.14.0)\n",
            "Requirement already satisfied: pycparser in /usr/local/lib/python3.6/dist-packages (from cffi>=0.6->pysoundfile) (2.20)\n"
          ],
          "name": "stdout"
        }
      ]
    },
    {
      "cell_type": "code",
      "metadata": {
        "id": "WG0uM8-FNM_f",
        "colab_type": "code",
        "colab": {}
      },
      "source": [
        "import librosa    #Python Library for analysing audio\n",
        "import soundfile\n",
        "import os, glob, pickle\n",
        "import numpy as np"
      ],
      "execution_count": 3,
      "outputs": []
    },
    {
      "cell_type": "code",
      "metadata": {
        "id": "TD1SQLtw-rRQ",
        "colab_type": "code",
        "colab": {}
      },
      "source": [
        "import matplotlib.pyplot as plt\n",
        "import torch\n",
        "import torch.nn.functional as functional\n",
        "import torch.nn as nn\n",
        "import torch.optim as optim\n",
        "import matplotlib.pyplot as plt\n",
        "import os\n",
        "import os.path\n",
        "import pdb\n",
        "from sklearn.neural_network import MLPClassifier\n",
        "from sklearn.metrics import accuracy_score\n",
        "\n",
        "\n",
        "##########################################\n",
        "\n",
        "AUDIO_EXTENSIONS = [\n",
        "    '.wav', '.WAV',\n",
        "]\n",
        "\n",
        "def is_audio_file(filename):\n",
        "    return any(filename.endswith(extension) for extension in AUDIO_EXTENSIONS)\n",
        "\n",
        "def find_classes(dir):\n",
        "    classes = [d for d in os.listdir(dir) if os.path.isdir(os.path.join(dir, d))]\n",
        "    classes.sort()\n",
        "    class_to_idx = {classes[i]: i for i in range(len(classes))}\n",
        "    return classes, class_to_idx\n",
        "\n",
        "def make_dataset(dir, class_to_idx):\n",
        "    spects = []\n",
        "    dir = os.path.expanduser(dir)\n",
        "    for target in sorted(os.listdir(dir)):\n",
        "        d = os.path.join(dir, target)\n",
        "        if not os.path.isdir(d):\n",
        "            continue\n",
        "\n",
        "        for root, _, fnames in sorted(os.walk(d)):\n",
        "            for fname in sorted(fnames):\n",
        "                if is_audio_file(fname):\n",
        "                    path = os.path.join(root, fname)\n",
        "                    item = (path, class_to_idx[target])\n",
        "                    spects.append(item)\n",
        "    return spects"
      ],
      "execution_count": 4,
      "outputs": []
    },
    {
      "cell_type": "code",
      "metadata": {
        "id": "jNk0MIfFRv1c",
        "colab_type": "code",
        "colab": {}
      },
      "source": [
        "def extract_features(file_name, mfcc, chroma, mel, contrast,tonnetz):    \n",
        "    with soundfile.SoundFile(file_name) as sound_file:\n",
        "        X = sound_file.read(dtype = \"float32\")\n",
        "        sample_rate = sound_file.samplerate\n",
        " \n",
        "        if chroma:\n",
        "            stft = np.abs(librosa.stft(X))\n",
        "            result = np.array([])\n",
        "        if mfcc:\n",
        "            mfccs = np.mean(librosa.feature.mfcc(y = X, sr = sample_rate, n_mfcc = 40).T, axis = 0)\n",
        "            result = np.hstack((result, mfccs))\n",
        "        if chroma:\n",
        "            chroma = np.mean(librosa.feature.chroma_stft(S=stft, sr=sample_rate).T, axis = 0)\n",
        "            result = np.hstack((result, chroma))\n",
        "        if mel:\n",
        "            mel = np.mean(librosa.feature.melspectrogram(X, sr = sample_rate).T, axis = 0)\n",
        "            result = np.hstack((result, mel))\n",
        "        if contrast:\n",
        "            contrast = np.mean(librosa.feature.spectral_contrast(S=stft, sr=sample_rate).T,axis=0)\n",
        "            result = np.hstack((result, contrast))\n",
        "        if tonnetz:\n",
        "            tonnetz = np.mean(librosa.feature.tonnetz(y=librosa.effects.harmonic(X), sr=sample_rate).T,axis=0)\n",
        "            result = np.hstack((result, tonnetz))\n",
        "    \n",
        "    return result"
      ],
      "execution_count": 5,
      "outputs": []
    },
    {
      "cell_type": "code",
      "metadata": {
        "id": "aEB8P_D3TDbU",
        "colab_type": "code",
        "colab": {
          "base_uri": "https://localhost:8080/",
          "height": 34
        },
        "outputId": "3899c715-3540-4273-a6e4-89d51baf9c94"
      },
      "source": [
        "from google.colab import drive\n",
        "drive.mount('/content/drive')\n"
      ],
      "execution_count": 6,
      "outputs": [
        {
          "output_type": "stream",
          "text": [
            "Drive already mounted at /content/drive; to attempt to forcibly remount, call drive.mount(\"/content/drive\", force_remount=True).\n"
          ],
          "name": "stdout"
        }
      ]
    },
    {
      "cell_type": "code",
      "metadata": {
        "id": "fzErZzgm_Voq",
        "colab_type": "code",
        "colab": {}
      },
      "source": [
        "# Get the directories which represent the classes\n",
        "# dirPath = \"/content/drive/My Drive/AllData\"\n",
        "# classes,class_to_idx = find_classes(dirPath)\n",
        "\n",
        "# spects = make_dataset(dirPath,class_to_idx)\n",
        "#print(spects)"
      ],
      "execution_count": 7,
      "outputs": []
    },
    {
      "cell_type": "code",
      "metadata": {
        "id": "-yaZOmuER6GR",
        "colab_type": "code",
        "colab": {}
      },
      "source": [
        "from sklearn.model_selection import train_test_split\n",
        "import csv\n",
        "\n",
        "def load_data(test_size, happy, anger, neural ,sad, fear, disgust):\n",
        "  X, y = [], []\n",
        "  y_class=['happy', 'anger','neural','sad','fear', 'disgust']\n",
        "  # print(y_class)\n",
        "    #if csv :#:\n",
        "    # for file in spects:\n",
        "    #     file_name = file[0]\n",
        "    #     emotion = file[1]\n",
        "    #     feature=extract_features(file_name, mfcc = True, chroma = True, mel = True, contrast= True ,tonnetz= True, zeros= True)\n",
        "    #     X.append(feature)\n",
        "    #     y.append(emotion)\n",
        "\n",
        "  if happy:\n",
        "    with open('/content/drive/My Drive/final project/f_happy.csv') as csvDataFile:\n",
        "       csvReader = csv.reader(csvDataFile,quoting=csv.QUOTE_NONNUMERIC)\n",
        "       for row in csvReader:\n",
        "         X.append(row)\n",
        "\n",
        "    with open('/content/drive/My Drive/final project/labels_happy.csv') as csvDataFile:\n",
        "       csvReader = csv.reader(csvDataFile)\n",
        "       for row in csvReader:\n",
        "         y.append(row)\n",
        "  \n",
        "  if anger:\n",
        "    with open('/content/drive/My Drive/final project/f_anger.csv') as csvDataFile:\n",
        "       csvReader = csv.reader(csvDataFile,quoting=csv.QUOTE_NONNUMERIC)\n",
        "       for row in csvReader:\n",
        "         X.append(row)\n",
        "\n",
        "    with open('/content/drive/My Drive/final project/labels_anger.csv') as csvDataFile:\n",
        "       csvReader = csv.reader(csvDataFile)\n",
        "       for row in csvReader:\n",
        "         y.append(row)\n",
        "\n",
        "  if sad:  \n",
        "    with open('/content/drive/My Drive/final project/f_sad.csv') as csvDataFile:\n",
        "       csvReader = csv.reader(csvDataFile,quoting=csv.QUOTE_NONNUMERIC)\n",
        "       for row in csvReader:\n",
        "         X.append(row)\n",
        "\n",
        "    with open('/content/drive/My Drive/final project/labels_sad.csv') as csvDataFile:\n",
        "       csvReader = csv.reader(csvDataFile)\n",
        "       for row in csvReader:\n",
        "         y.append(row)\n",
        "\n",
        "  if neural:  \n",
        "    with open('/content/drive/My Drive/final project/f_neutral.csv') as csvDataFile:\n",
        "       csvReader = csv.reader(csvDataFile,quoting=csv.QUOTE_NONNUMERIC)\n",
        "       for row in csvReader:\n",
        "         X.append(row)\n",
        "\n",
        "    with open('/content/drive/My Drive/final project/labels_neutral.csv') as csvDataFile:\n",
        "       csvReader = csv.reader(csvDataFile)\n",
        "       for row in csvReader:\n",
        "         y.append(row)\n",
        "  if fear:\n",
        "    with open('/content/drive/My Drive/final project/f_fear.csv') as csvDataFile:\n",
        "       csvReader = csv.reader(csvDataFile,quoting=csv.QUOTE_NONNUMERIC)\n",
        "       for row in csvReader:\n",
        "         X.append(row)\n",
        "\n",
        "    with open('/content/drive/My Drive/final project/labels_fear.csv') as csvDataFile:\n",
        "       csvReader = csv.reader(csvDataFile)\n",
        "       for row in csvReader:\n",
        "         y.append(row)\n",
        "  \n",
        "  if disgust: \n",
        "    with open('/content/drive/My Drive/final project/f_disgust.csv') as csvDataFile:\n",
        "       csvReader = csv.reader(csvDataFile,quoting=csv.QUOTE_NONNUMERIC)\n",
        "       for row in csvReader:\n",
        "         X.append(row)\n",
        "\n",
        "    with open('/content/drive/My Drive/final project/labels_disgust.csv') as csvDataFile:\n",
        "       csvReader = csv.reader(csvDataFile)\n",
        "       for row in csvReader:\n",
        "        y.append(row)  \n",
        "\n",
        "  return train_test_split(np.array(X), y, test_size = test_size, random_state = 9)"
      ],
      "execution_count": 8,
      "outputs": []
    },
    {
      "cell_type": "code",
      "metadata": {
        "id": "dqr6N4iDIAj6",
        "colab_type": "code",
        "colab": {
          "base_uri": "https://localhost:8080/",
          "height": 34
        },
        "outputId": "a0224c09-542e-4db0-dd20-a866ba0c345a"
      },
      "source": [
        "##Classifiers are trained to be used below :\n",
        "\n",
        "# 1. clasiffier between happy and anger\n",
        "\n",
        "X_train_1, X_test_1, y_train_1, y_test_1 = load_data(test_size = 0.25, happy=True, anger=True, neural=False ,sad=False, fear=False, disgust=False)\n",
        "\n",
        "classifier1 = MLPClassifier(alpha = 0.01, batch_size = 256, epsilon = 1e-08, hidden_layer_sizes = (300,), \n",
        "                    learning_rate='adaptive', max_iter = 500)\n",
        "classifier1.fit(X_train_1, np.ravel(y_train_1))\n",
        "y_pred_1=classifier1.predict(X_test_1)\n",
        "\n",
        "accuracy = accuracy_score(y_true = y_test_1, y_pred = y_pred_1)\n",
        "print(\"Accuracy: {:.2f}%\".format(accuracy*100))"
      ],
      "execution_count": 9,
      "outputs": [
        {
          "output_type": "stream",
          "text": [
            "Accuracy: 81.43%\n"
          ],
          "name": "stdout"
        }
      ]
    },
    {
      "cell_type": "code",
      "metadata": {
        "id": "cT4XFdh3ITwT",
        "colab_type": "code",
        "colab": {
          "base_uri": "https://localhost:8080/",
          "height": 34
        },
        "outputId": "976526fd-d9dd-457b-8e28-c07509b36b46"
      },
      "source": [
        "# 2. clasiffier between neutral VS sad,fear,dis\n",
        "\n",
        "X_train_2, X_test_2, y_train_2, y_test_2 = load_data(test_size = 0.25, happy=False, anger=False, neural=True ,sad=True, fear=True, disgust=True)\n",
        "\n",
        "y_train_bin2 , y_test_bin2 = [], []  #they binarys & y_train, y_test regulars\n",
        "\n",
        "[y_train_bin2.append(0) if y_train_2[i][0]=='neutral' else y_train_bin2.append(1) for i in range(len(y_train_2))]\n",
        "[y_test_bin2.append(0) if y_test_2[i][0]=='neutral' else y_test_bin2.append(1) for i in range(len(y_test_2))]\n",
        "\n",
        "# print(y_test_bin2)\n",
        "# print(y_test_2)\n",
        "\n",
        "classifier2 = MLPClassifier(alpha = 0.01, batch_size = 256, epsilon = 1e-08, hidden_layer_sizes = (300,), \n",
        "                    learning_rate='adaptive', max_iter = 500)\n",
        "\n",
        "classifier2.fit(X_train_2,y_train_bin2)  \n",
        "y_pred_2 =classifier2.predict(X_test_2)\n",
        "accuracy = accuracy_score(y_true = y_test_bin2, y_pred = y_pred_2)\n",
        "print(\"Accuracy: {:.2f}%\".format(accuracy*100))\n"
      ],
      "execution_count": 10,
      "outputs": [
        {
          "output_type": "stream",
          "text": [
            "Accuracy: 84.35%\n"
          ],
          "name": "stdout"
        }
      ]
    },
    {
      "cell_type": "code",
      "metadata": {
        "id": "GleC7S7Sh2W_",
        "colab_type": "code",
        "colab": {
          "base_uri": "https://localhost:8080/",
          "height": 34
        },
        "outputId": "804d76c5-d4fe-4ef4-f241-843266620baa"
      },
      "source": [
        "# 3. clasiffier between sad VS fear,dis\n",
        "\n",
        "X_train_3, X_test_3, y_train_3, y_test_3 = load_data(test_size = 0.25, happy=False, anger=False, neural=False ,sad=True, fear=True, disgust=True)\n",
        "\n",
        "y_train_bin3 , y_test_bin3 = [], []  #they binarys & y_train, y_test regulars\n",
        "\n",
        "[ y_train_bin3.append(0) if y_train_3[i][0]=='sad' else y_train_bin3.append(1) for i in range(len(y_train_3))]\n",
        "[ y_test_bin3.append(0) if y_test_3[i][0]=='sad' else y_test_bin3.append(1) for i in range(len(y_test_3))]\n",
        "\n",
        "classifier3 = MLPClassifier(alpha = 0.01, batch_size = 256, epsilon = 1e-08, hidden_layer_sizes = (300,), \n",
        "                    learning_rate='adaptive', max_iter = 500)\n",
        "# print(y_train_bin3)\n",
        "# print(y_train_3)\n",
        "classifier3.fit(X_train_3 ,y_train_bin3)  \n",
        "y_pred_bin3 = classifier3.predict(X_test_3)\n",
        "accuracy = accuracy_score(y_true = y_test_bin3, y_pred = y_pred_bin3)\n",
        "print(\"Accuracy: {:.2f}%\".format(accuracy*100))"
      ],
      "execution_count": 11,
      "outputs": [
        {
          "output_type": "stream",
          "text": [
            "Accuracy: 80.92%\n"
          ],
          "name": "stdout"
        }
      ]
    },
    {
      "cell_type": "code",
      "metadata": {
        "id": "Vq0IMqBph9oL",
        "colab_type": "code",
        "colab": {
          "base_uri": "https://localhost:8080/",
          "height": 34
        },
        "outputId": "fa75049c-994c-436e-f1f2-b0d0f946584c"
      },
      "source": [
        "# 4. clasiffier between fear VS dis  \n",
        "\n",
        "X_train_4, X_test_4, y_train_4, y_test_4 = load_data(test_size = 0.25, happy=False, anger=False, neural=False ,sad=False, fear=True, disgust=True)\n",
        "\n",
        "classifier4 = MLPClassifier(alpha = 0.01, batch_size = 256, epsilon = 1e-08, hidden_layer_sizes = (300,), \n",
        "                    learning_rate='adaptive', max_iter = 500)\n",
        "classifier4.fit(X_train_4, np.ravel(y_train_4))\n",
        "y_pred_4=classifier4.predict(X_test_4)\n",
        "\n",
        "accuracy = accuracy_score(y_true = y_test_4, y_pred = y_pred_4)\n",
        "print(\"Accuracy: {:.2f}%\".format(accuracy*100))"
      ],
      "execution_count": 12,
      "outputs": [
        {
          "output_type": "stream",
          "text": [
            "Accuracy: 77.17%\n"
          ],
          "name": "stdout"
        }
      ]
    },
    {
      "cell_type": "code",
      "metadata": {
        "id": "ZZQOx1SuUrdM",
        "colab_type": "code",
        "colab": {
          "base_uri": "https://localhost:8080/",
          "height": 34
        },
        "outputId": "01a43aff-cd72-4578-bb70-7c929b415f2d"
      },
      "source": [
        "## start of hierarchical !! layer 1 \n",
        "\n",
        "# classifier between happy+angry--0  VS.  4 others--1  \n",
        "X_train, X_test, y_train, y_test = load_data(test_size = 0.25, happy=True, anger=True, neural=True ,sad=True, fear=True, disgust=True)\n",
        "\n",
        "y_train_bin , y_test_bin = [], []  #they binarys & y_train, y_test regulars\n",
        "\n",
        "[ y_train_bin.append(0) if y_train[i][0]=='happy' or y_train[i][0]=='anger' else y_train_bin.append(1) for i in range(len(y_train))]\n",
        "[ y_test_bin.append(0) if y_test[i][0]=='happy' or y_test[i][0]=='anger' else y_test_bin.append(1) for i in range(len(y_test))]\n",
        "\n",
        "classifier = MLPClassifier(alpha = 0.01, batch_size = 256, epsilon = 1e-08, hidden_layer_sizes = (300,), \n",
        "                    learning_rate='adaptive', max_iter = 500)\n",
        "\n",
        "classifier.fit(X_train,y_train_bin)  \n",
        "y_pred=classifier.predict(X_test)\n",
        "accuracy = accuracy_score(y_true = y_test_bin, y_pred = y_pred)\n",
        "print(\"Accuracy: {:.2f}%\".format(accuracy*100))"
      ],
      "execution_count": 13,
      "outputs": [
        {
          "output_type": "stream",
          "text": [
            "Accuracy: 85.34%\n"
          ],
          "name": "stdout"
        }
      ]
    },
    {
      "cell_type": "code",
      "metadata": {
        "id": "olGrLn0k6054",
        "colab_type": "code",
        "colab": {}
      },
      "source": [
        "## start of hierarchical !! layer 1 \n",
        "X_hir= []\n",
        "y_true, y_hir_pred, y_hir_bin= [] , [] ,[]\n",
        "\n",
        " #collect all the example to be test\n",
        "[X_hir.append(X_train[i]) for i in range(len(X_train))]\n",
        "[X_hir.append(X_test[i]) for i in range(len(X_test))]\n",
        "\n",
        "[y_true.append(y_train[i]) for i in range(len(y_train))]\n",
        "[y_true.append(y_test[i]) for i in range(len(y_test))]\n",
        "\n",
        "[y_hir_bin.append(y_train_bin[i]) for i in range(len(y_train_bin))]\n",
        "[y_hir_bin.append(y_test_bin[i]) for i in range(len(y_test_bin))]\n",
        "\n",
        "y_hir_pred=classifier.predict(X_hir) #1 classifier\n",
        "# print(y_true)\n",
        "# print(y_hir_bin)\n",
        "# print(len(X_hir))"
      ],
      "execution_count": 14,
      "outputs": []
    },
    {
      "cell_type": "code",
      "metadata": {
        "id": "S8R3f18EdWJP",
        "colab_type": "code",
        "colab": {}
      },
      "source": [
        "# layer 2 --- all happy & anger goto classifier 1 , \n",
        "X1 = []  #0 - happy, anger - only examples\n",
        "X2 = []  #1- ...\n",
        "y_true_1= []\n",
        "y_true_2, y_pred2 = [], []\n",
        "y_allPreds, y_allTrue=[],[]\n",
        " \n",
        "for i in range(len(y_hir_pred)):\n",
        "  if y_hir_pred[i]==0:\n",
        "    X1.append(X_hir[i])\n",
        "    y_true_1.append(y_true[i])\n",
        "  else:\n",
        "    X2.append(X_hir[i])\n",
        "    y_true_2.append(y_true[i])\n",
        "\n",
        "# print(len(X1)) \n",
        "# print(len(X2))\n",
        "# print(len(y_true_1))\n",
        "# print(y_true_1)\n",
        "\n",
        "#happy or anger - layer 2 left\n",
        "y_pred_finally=classifier1.predict(X1) \n",
        "result=classifier1.predict_proba(X1)\n",
        "# print(result)\n",
        "\n",
        "[y_allPreds.append(y_pred_finally[i]) for i in range(len(y_pred_finally))]\n",
        "[y_allTrue.append(y_true_1[i]) for i in range(len(y_true_1))]\n",
        "\n",
        "\n",
        "# accuracy = accuracy_score(y_true = y_allTrue, y_pred = y_allPreds)\n",
        "# print(\"Accuracy1: {:.2f}%\".format(accuracy*100))\n",
        "\n",
        "#classifier 2 : 0 is neutral  1- fear,sad,dis\n",
        "\n",
        "y_pred2_bin=classifier2.predict(X2)\n",
        "# result2=classifier2.predict_proba(X2)\n",
        "\n",
        "# print(len(y_allPreds))\n",
        "# print(len(y_allTrue))"
      ],
      "execution_count": 15,
      "outputs": []
    },
    {
      "cell_type": "code",
      "metadata": {
        "id": "4G5U8v4dkkra",
        "colab_type": "code",
        "colab": {
          "base_uri": "https://localhost:8080/",
          "height": 52
        },
        "outputId": "4c08de91-e5e7-40d6-d60e-ab0f0ee8c7b3"
      },
      "source": [
        "# layer 3 --- 1-- goto classifier 3 \n",
        "X3 = []  #0 - neutral\n",
        "X4 = []  #1- ...\n",
        "y_true3, y_true4 =[],[]\n",
        " \n",
        "for i in range(len(y_pred2_bin)):\n",
        "  if y_pred2_bin[i]==0:\n",
        "    X3.append(X2[i])\n",
        "    y_true3.append(y_true_2[i])\n",
        "  else:\n",
        "    X4.append(X2[i])\n",
        "    y_true4.append(y_true_2[i])\n",
        "\n",
        "#finish with neutral\n",
        "[y_allPreds.append('anger') for i in range(len(X3))]\n",
        "[y_allTrue.append(y_true3[i]) for i in range(len(y_true3))]\n",
        "print(len(y_allPreds))\n",
        "print(len(y_allTrue))\n",
        "\n",
        "\n",
        "# accuracy = accuracy_score(y_true = y_allTrue, y_pred = y_allPreds)\n",
        "# print(\"Accuracy2: {:.2f}%\".format(accuracy*100))\n",
        "\n",
        "#sad VS fear_dis ---3 \n",
        "y_pred_bin3=classifier3.predict(X4) \n",
        "result=classifier3.predict_proba(X4)\n",
        "# print(result)\n"
      ],
      "execution_count": 16,
      "outputs": [
        {
          "output_type": "stream",
          "text": [
            "3514\n",
            "3514\n"
          ],
          "name": "stdout"
        }
      ]
    },
    {
      "cell_type": "code",
      "metadata": {
        "id": "BZFLxz0DmodP",
        "colab_type": "code",
        "colab": {
          "base_uri": "https://localhost:8080/",
          "height": 34
        },
        "outputId": "0aa59072-874e-4080-ae88-cd36dc31ac5c"
      },
      "source": [
        "# layer 4 --- last one \n",
        "X5 = []  #0 - sad\n",
        "X6 = []  #1- ...fear,dis\n",
        "y_true5, y_true6 =[],[]\n",
        "\n",
        "for i in range(len(y_pred_bin3)):\n",
        "  if y_pred_bin3[i]==0:\n",
        "    X5.append(X4[i])\n",
        "    y_true5.append(y_true4[i])\n",
        "  else:\n",
        "    X6.append(X4[i])\n",
        "    y_true6.append(y_true4[i])\n",
        "\n",
        "# print(len(X5)) #all the sads\n",
        "\n",
        "[y_allPreds.append('sad') for i in range(len(X5))]\n",
        "[y_allTrue.append(y_true5[i]) for i in range(len(y_true5))]\n",
        "\n",
        "\n",
        "# accuracy = accuracy_score(y_true = y_allTrue, y_pred = y_allPreds)\n",
        "# print(\"Accuracy3: {:.2f}%\".format(accuracy*100))\n",
        "\n",
        "# fear VS dis\n",
        "y_pred_finally=classifier4.predict(X6) \n",
        "result=classifier4.predict_proba(X6)\n",
        "# print(result)\n",
        "\n",
        "[y_allPreds.append(y_pred_finally[i]) for i in range(len(y_pred_finally))]\n",
        "[y_allTrue.append(y_true6[i]) for i in range(len(y_true6))]\n",
        "\n",
        "# print(len(y_allPreds))\n",
        "# print(len(y_allTrue))\n",
        "\n",
        "accuracy = accuracy_score(y_true = y_allTrue, y_pred = y_allPreds)\n",
        "print(\"Accuracy4: {:.2f}%\".format(accuracy*100))"
      ],
      "execution_count": 17,
      "outputs": [
        {
          "output_type": "stream",
          "text": [
            "Accuracy4: 63.00%\n"
          ],
          "name": "stdout"
        }
      ]
    },
    {
      "cell_type": "code",
      "metadata": {
        "id": "Ga0QsR5tJoEW",
        "colab_type": "code",
        "colab": {}
      },
      "source": [
        "## new example\n",
        "\n",
        "def predict_new_audio(*new_ex):\n",
        "  y_pred=classifier.predict(new_ex) #layer 0\n",
        "  result=classifier.predict_proba(new_ex)\n",
        "  print(result)\n",
        "\n",
        "  if(y_pred==0):  \n",
        "    y_pred_finally=classifier1.predict(new_ex) #layer 1- left\n",
        "    result=classifier1.predict_proba(new_ex)\n",
        "    print(result)\n",
        "  else:\n",
        "    y_pred_1=classifier2.predict(new_ex) #layer 1- right\n",
        "    result=classifier2.predict_proba(new_ex)\n",
        "    print(result)\n",
        "    if(y_pred_1==0): \n",
        "      y_pred_finally='neutral'\n",
        "    else:\n",
        "      y_pred_2=classifier3.predict(new_ex) ##layer 2- \n",
        "      result=classifier3.predict_proba(new_ex)\n",
        "      print(result)\n",
        "      if(y_pred_2==0):\n",
        "        y_pred_finally='sad' ##layer 3- left\n",
        "      else:\n",
        "        y_pred_finally=classifier4.predict(new_ex) ##layer 3-right \n",
        "        result=classifier4.predict_proba(new_ex)\n",
        "        print(result)\n",
        "\n",
        "  return y_pred_finally"
      ],
      "execution_count": 18,
      "outputs": []
    },
    {
      "cell_type": "code",
      "metadata": {
        "id": "r9HmyZIGd-oA",
        "colab_type": "code",
        "colab": {
          "base_uri": "https://localhost:8080/",
          "height": 34
        },
        "outputId": "59411713-dbb4-4ca5-9fdc-cd8d84667def"
      },
      "source": [
        "from google.colab import drive\n",
        "drive.mount('/content/drive')"
      ],
      "execution_count": 19,
      "outputs": [
        {
          "output_type": "stream",
          "text": [
            "Drive already mounted at /content/drive; to attempt to forcibly remount, call drive.mount(\"/content/drive\", force_remount=True).\n"
          ],
          "name": "stdout"
        }
      ]
    },
    {
      "cell_type": "code",
      "metadata": {
        "id": "YwXFdnpe3cgx",
        "colab_type": "code",
        "colab": {}
      },
      "source": [
        "feature = extract_features(\"/content/drive/My Drive/try/dana.wav\", mfcc = True, chroma = True, mel = True, contrast= True ,tonnetz= True)"
      ],
      "execution_count": 20,
      "outputs": []
    },
    {
      "cell_type": "code",
      "metadata": {
        "id": "UoTpF8TGItWc",
        "colab_type": "code",
        "colab": {
          "base_uri": "https://localhost:8080/",
          "height": 105
        },
        "outputId": "14b8be62-e787-422f-c9d9-81f5252ed865"
      },
      "source": [
        "label_new = predict_new_audio(feature)\n",
        "print(label_new)"
      ],
      "execution_count": 21,
      "outputs": [
        {
          "output_type": "stream",
          "text": [
            "[[0.06246469 0.93753531]]\n",
            "[[2.41109226e-07 9.99999759e-01]]\n",
            "[[0. 1.]]\n",
            "[[0.8896448 0.1103552]]\n",
            "['disgust']\n"
          ],
          "name": "stdout"
        }
      ]
    },
    {
      "cell_type": "code",
      "metadata": {
        "id": "pM1Ws52xzINO",
        "colab_type": "code",
        "colab": {}
      },
      "source": [
        "# import torch\n",
        "# torch.save(classifier,\"/content/drive/My Drive/final project/saveModel/model1\")"
      ],
      "execution_count": 22,
      "outputs": []
    }
  ]
}