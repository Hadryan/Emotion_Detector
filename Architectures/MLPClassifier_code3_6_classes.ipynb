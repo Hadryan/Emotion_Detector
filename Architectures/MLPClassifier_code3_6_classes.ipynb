{
  "nbformat": 4,
  "nbformat_minor": 0,
  "metadata": {
    "colab": {
      "name": "Copy of Copy of MLPClassifier-code2 - 6 classes- good .ipynb",
      "provenance": [],
      "collapsed_sections": []
    },
    "kernelspec": {
      "name": "python3",
      "display_name": "Python 3"
    },
    "accelerator": "GPU"
  },
  "cells": [
    {
      "cell_type": "code",
      "metadata": {
        "id": "T267CerGRSlr",
        "colab_type": "code",
        "colab": {
          "base_uri": "https://localhost:8080/",
          "height": 505
        },
        "outputId": "7f688059-6408-4122-cff9-2f246a9f5983"
      },
      "source": [
        "pip install conda"
      ],
      "execution_count": null,
      "outputs": [
        {
          "output_type": "stream",
          "text": [
            "Collecting conda\n",
            "\u001b[?25l  Downloading https://files.pythonhosted.org/packages/74/4e/c533c3136427be62c38cc0e038cabf167bb54489c2ced2f6df903c456861/conda-4.3.16.tar.gz (299kB)\n",
            "\u001b[K     |████████████████████████████████| 307kB 7.3MB/s \n",
            "\u001b[?25hCollecting pycosat>=0.6.1\n",
            "\u001b[?25l  Downloading https://files.pythonhosted.org/packages/c0/fd/e38d68774c0a345b0090d608a90f1fbf423970d812f7ec7aef9ac024e648/pycosat-0.6.3.zip (66kB)\n",
            "\u001b[K     |████████████████████████████████| 71kB 7.1MB/s \n",
            "\u001b[?25hRequirement already satisfied: requests>=2.12.4 in /usr/local/lib/python3.6/dist-packages (from conda) (2.23.0)\n",
            "Collecting ruamel.yaml>=0.11.14\n",
            "\u001b[?25l  Downloading https://files.pythonhosted.org/packages/a6/92/59af3e38227b9cc14520bf1e59516d99ceca53e3b8448094248171e9432b/ruamel.yaml-0.16.10-py2.py3-none-any.whl (111kB)\n",
            "\u001b[K     |████████████████████████████████| 112kB 14.7MB/s \n",
            "\u001b[?25hRequirement already satisfied: idna<3,>=2.5 in /usr/local/lib/python3.6/dist-packages (from requests>=2.12.4->conda) (2.9)\n",
            "Requirement already satisfied: certifi>=2017.4.17 in /usr/local/lib/python3.6/dist-packages (from requests>=2.12.4->conda) (2020.4.5.2)\n",
            "Requirement already satisfied: urllib3!=1.25.0,!=1.25.1,<1.26,>=1.21.1 in /usr/local/lib/python3.6/dist-packages (from requests>=2.12.4->conda) (1.24.3)\n",
            "Requirement already satisfied: chardet<4,>=3.0.2 in /usr/local/lib/python3.6/dist-packages (from requests>=2.12.4->conda) (3.0.4)\n",
            "Collecting ruamel.yaml.clib>=0.1.2; platform_python_implementation == \"CPython\" and python_version < \"3.9\"\n",
            "\u001b[?25l  Downloading https://files.pythonhosted.org/packages/53/77/4bcd63f362bcb6c8f4f06253c11f9772f64189bf08cf3f40c5ccbda9e561/ruamel.yaml.clib-0.2.0-cp36-cp36m-manylinux1_x86_64.whl (548kB)\n",
            "\u001b[K     |████████████████████████████████| 552kB 14.0MB/s \n",
            "\u001b[?25hBuilding wheels for collected packages: conda, pycosat\n",
            "  Building wheel for conda (setup.py) ... \u001b[?25l\u001b[?25hdone\n",
            "  Created wheel for conda: filename=conda-4.3.16-cp36-none-any.whl size=336938 sha256=51886186a26d615ff35efc379e03bd974a72e526dc3c81bf10a2a3c95b59498c\n",
            "  Stored in directory: /root/.cache/pip/wheels/a3/50/79/302742d53e2231ec545cb3791abfdd24de234021ed8e0588a0\n",
            "  Building wheel for pycosat (setup.py) ... \u001b[?25l\u001b[?25hdone\n",
            "  Created wheel for pycosat: filename=pycosat-0.6.3-cp36-cp36m-linux_x86_64.whl size=142849 sha256=1dda4c372b02d02d71614baf0a49e4d7f28dbc4ccf4db86fee3528d936d04eb9\n",
            "  Stored in directory: /root/.cache/pip/wheels/c4/67/ff/5570304e45814eccef48a3c69c3af25d0456ed3a34eddbbe38\n",
            "Successfully built conda pycosat\n",
            "Installing collected packages: pycosat, ruamel.yaml.clib, ruamel.yaml, conda\n",
            "Successfully installed conda-4.3.16 pycosat-0.6.3 ruamel.yaml-0.16.10 ruamel.yaml.clib-0.2.0\n"
          ],
          "name": "stdout"
        }
      ]
    },
    {
      "cell_type": "code",
      "metadata": {
        "id": "qFw_sW4DRbzK",
        "colab_type": "code",
        "colab": {
          "base_uri": "https://localhost:8080/",
          "height": 141
        },
        "outputId": "14a88edf-218f-4056-bbf5-a2ac8507cbc5"
      },
      "source": [
        "pip install pysoundfile"
      ],
      "execution_count": null,
      "outputs": [
        {
          "output_type": "stream",
          "text": [
            "Collecting pysoundfile\n",
            "  Downloading https://files.pythonhosted.org/packages/2a/b3/0b871e5fd31b9a8e54b4ee359384e705a1ca1e2870706d2f081dc7cc1693/PySoundFile-0.9.0.post1-py2.py3-none-any.whl\n",
            "Requirement already satisfied: cffi>=0.6 in /usr/local/lib/python3.6/dist-packages (from pysoundfile) (1.14.0)\n",
            "Requirement already satisfied: pycparser in /usr/local/lib/python3.6/dist-packages (from cffi>=0.6->pysoundfile) (2.20)\n",
            "Installing collected packages: pysoundfile\n",
            "Successfully installed pysoundfile-0.9.0.post1\n"
          ],
          "name": "stdout"
        }
      ]
    },
    {
      "cell_type": "code",
      "metadata": {
        "id": "WG0uM8-FNM_f",
        "colab_type": "code",
        "colab": {}
      },
      "source": [
        "import librosa    #Python Library for analysing audio\n",
        "import soundfile\n",
        "import os, glob, pickle\n",
        "import numpy as np"
      ],
      "execution_count": null,
      "outputs": []
    },
    {
      "cell_type": "code",
      "metadata": {
        "id": "TD1SQLtw-rRQ",
        "colab_type": "code",
        "colab": {}
      },
      "source": [
        "import matplotlib.pyplot as plt\n",
        "import torch\n",
        "import torch.nn.functional as functional\n",
        "import torch.nn as nn\n",
        "import torch.optim as optim\n",
        "import matplotlib.pyplot as plt\n",
        "import os\n",
        "import os.path\n",
        "import pdb\n",
        "\n",
        "#%%\n",
        "#%%\n",
        "# --------------------------------------------------------------------------------------------- #\n",
        "                                        # Data Section\n",
        "                        # Prepare all the data for training and prediction\n",
        "# --------------------------------------------------------------------------------------------- #\n",
        "\n",
        "\n",
        "# -------------------------------------------- #\n",
        "            # Generate training set\n",
        "# -------------------------------------------- #\n",
        "AUDIO_EXTENSIONS = [\n",
        "    '.wav', '.WAV',\n",
        "]\n",
        "\n",
        "def is_audio_file(filename):\n",
        "    return any(filename.endswith(extension) for extension in AUDIO_EXTENSIONS)\n",
        "\n",
        "def find_classes(dir):\n",
        "    classes = [d for d in os.listdir(dir) if os.path.isdir(os.path.join(dir, d))]\n",
        "    classes.sort()\n",
        "    class_to_idx = {classes[i]: i for i in range(len(classes))}\n",
        "    return classes, class_to_idx\n",
        "\n",
        "def make_dataset(dir, class_to_idx):\n",
        "    spects = []\n",
        "    dir = os.path.expanduser(dir)\n",
        "    for target in sorted(os.listdir(dir)):\n",
        "        d = os.path.join(dir, target)\n",
        "        if not os.path.isdir(d):\n",
        "            continue\n",
        "\n",
        "        for root, _, fnames in sorted(os.walk(d)):\n",
        "            for fname in sorted(fnames):\n",
        "                if is_audio_file(fname):\n",
        "                    path = os.path.join(root, fname)\n",
        "                    item = (path, class_to_idx[target])\n",
        "                    spects.append(item)\n",
        "    return spects"
      ],
      "execution_count": null,
      "outputs": []
    },
    {
      "cell_type": "code",
      "metadata": {
        "id": "jNk0MIfFRv1c",
        "colab_type": "code",
        "colab": {}
      },
      "source": [
        "def extract_features(file_name, mfcc, chroma, mel, contrast,tonnetz):   \n",
        "    with soundfile.SoundFile(file_name) as sound_file:\n",
        "        X = sound_file.read(dtype = \"float32\")\n",
        "        sample_rate = sound_file.samplerate\n",
        " \n",
        "        if chroma:\n",
        "            stft = np.abs(librosa.stft(X))\n",
        "            result = np.array([])\n",
        "        if mfcc:\n",
        "            mfccs = np.mean(librosa.feature.mfcc(y = X, sr = sample_rate, n_mfcc = 40).T, axis = 0)\n",
        "            result = np.hstack((result, mfccs))\n",
        "        if chroma:\n",
        "            chroma = np.mean(librosa.feature.chroma_stft(S=stft, sr=sample_rate).T, axis = 0)\n",
        "            result = np.hstack((result, chroma))\n",
        "        if mel:\n",
        "            mel = np.mean(librosa.feature.melspectrogram(X, sr = sample_rate).T, axis = 0)\n",
        "            result = np.hstack((result, mel))\n",
        "        if contrast:\n",
        "            contrast = np.mean(librosa.feature.spectral_contrast(S=stft, sr=sample_rate).T,axis=0)\n",
        "            result = np.hstack((result, contrast))\n",
        "        if tonnetz:\n",
        "            tonnetz = np.mean(librosa.feature.tonnetz(y=librosa.effects.harmonic(X), sr=sample_rate).T,axis=0)\n",
        "            result = np.hstack((result, tonnetz))\n",
        "    \n",
        "    return result"
      ],
      "execution_count": null,
      "outputs": []
    },
    {
      "cell_type": "code",
      "metadata": {
        "id": "aEB8P_D3TDbU",
        "colab_type": "code",
        "colab": {
          "base_uri": "https://localhost:8080/",
          "height": 124
        },
        "outputId": "44bc985d-c365-48ee-ca8a-a5f9ac0d4db2"
      },
      "source": [
        "from google.colab import drive\n",
        "drive.mount('/content/drive')\n"
      ],
      "execution_count": null,
      "outputs": [
        {
          "output_type": "stream",
          "text": [
            "Go to this URL in a browser: https://accounts.google.com/o/oauth2/auth?client_id=947318989803-6bn6qk8qdgf4n4g3pfee6491hc0brc4i.apps.googleusercontent.com&redirect_uri=urn%3aietf%3awg%3aoauth%3a2.0%3aoob&response_type=code&scope=email%20https%3a%2f%2fwww.googleapis.com%2fauth%2fdocs.test%20https%3a%2f%2fwww.googleapis.com%2fauth%2fdrive%20https%3a%2f%2fwww.googleapis.com%2fauth%2fdrive.photos.readonly%20https%3a%2f%2fwww.googleapis.com%2fauth%2fpeopleapi.readonly\n",
            "\n",
            "Enter your authorization code:\n",
            "··········\n",
            "Mounted at /content/drive\n"
          ],
          "name": "stdout"
        }
      ]
    },
    {
      "cell_type": "code",
      "metadata": {
        "id": "fzErZzgm_Voq",
        "colab_type": "code",
        "colab": {}
      },
      "source": [
        "#Get the directories which represent the classes\n",
        "# dirPath = \"/content/drive/My Drive/4\"\n",
        "# classes,class_to_idx = find_classes(dirPath)\n",
        "\n",
        "# spects = make_dataset(dirPath,class_to_idx)\n",
        "# print(spects)"
      ],
      "execution_count": null,
      "outputs": []
    },
    {
      "cell_type": "code",
      "metadata": {
        "id": "-yaZOmuER6GR",
        "colab_type": "code",
        "colab": {}
      },
      "source": [
        "from sklearn.model_selection import train_test_split\n",
        "import csv\n",
        "\n",
        "\n",
        "def load_data(test_size=0.2):\n",
        "    X, y = [], []\n",
        "#   # if csv :#:\n",
        "#     for file in spects:\n",
        "#         file_name = file[0]\n",
        "#         emotion = file[1]\n",
        "#         feature=extract_features(file_name, mfcc = True, chroma = True, mel = True, contrast= True ,tonnetz= True)\n",
        "#         X.append(feature)\n",
        "#         y.append(emotion)\n",
        "\n",
        "    #:\n",
        " \n",
        "    with open('/content/drive/My Drive/final project/f_anger+happy.csv') as csvDataFile:\n",
        "       csvReader = csv.reader(csvDataFile,quoting=csv.QUOTE_NONNUMERIC)\n",
        "       for row in csvReader:\n",
        "         X.append(row)\n",
        "\n",
        "    with open('/content/drive/My Drive/final project/labels_anger+happy.csv') as csvDataFile:\n",
        "       csvReader = csv.reader(csvDataFile)\n",
        "       for row in csvReader:\n",
        "         y.append(row)\n",
        "    \n",
        "    with open('/content/drive/My Drive/final project/f_sad.csv') as csvDataFile:\n",
        "       csvReader = csv.reader(csvDataFile,quoting=csv.QUOTE_NONNUMERIC)\n",
        "       for row in csvReader:\n",
        "         X.append(row)\n",
        "\n",
        "    with open('/content/drive/My Drive/final project/labels_sad.csv') as csvDataFile:\n",
        "       csvReader = csv.reader(csvDataFile)\n",
        "       for row in csvReader:\n",
        "         y.append(row)\n",
        "    \n",
        "    with open('/content/drive/My Drive/final project/f_neutral.csv') as csvDataFile:\n",
        "       csvReader = csv.reader(csvDataFile,quoting=csv.QUOTE_NONNUMERIC)\n",
        "       for row in csvReader:\n",
        "         X.append(row)\n",
        "\n",
        "    with open('/content/drive/My Drive/final project/labels_neutral.csv') as csvDataFile:\n",
        "       csvReader = csv.reader(csvDataFile)\n",
        "       for row in csvReader:\n",
        "         y.append(row)\n",
        "\n",
        "    with open('/content/drive/My Drive/final project/f_fear.csv') as csvDataFile:\n",
        "       csvReader = csv.reader(csvDataFile,quoting=csv.QUOTE_NONNUMERIC)\n",
        "       for row in csvReader:\n",
        "         X.append(row)\n",
        "\n",
        "    with open('/content/drive/My Drive/final project/labels_fear.csv') as csvDataFile:\n",
        "       csvReader = csv.reader(csvDataFile)\n",
        "       for row in csvReader:\n",
        "         y.append(row)\n",
        "         \n",
        "    with open('/content/drive/My Drive/final project/f_disgust.csv') as csvDataFile:\n",
        "       csvReader = csv.reader(csvDataFile,quoting=csv.QUOTE_NONNUMERIC)\n",
        "       for row in csvReader:\n",
        "         X.append(row)\n",
        "\n",
        "    with open('/content/drive/My Drive/final project/labels_disgust.csv') as csvDataFile:\n",
        "       csvReader = csv.reader(csvDataFile)\n",
        "       for row in csvReader:\n",
        "         y.append(row)\n",
        "\n",
        "\n",
        "    \n",
        "    return train_test_split(np.array(X), y, test_size = test_size, random_state = 9)"
      ],
      "execution_count": null,
      "outputs": []
    },
    {
      "cell_type": "code",
      "metadata": {
        "id": "WGpaAqYLTxUV",
        "colab_type": "code",
        "colab": {}
      },
      "source": [
        "X_train, X_test, y_train, y_test = load_data(test_size = 0.25)\n"
      ],
      "execution_count": null,
      "outputs": []
    },
    {
      "cell_type": "code",
      "metadata": {
        "id": "2jUrTazrRlr3",
        "colab_type": "code",
        "colab": {}
      },
      "source": [
        "# import pandas as pd\n",
        "# f = pd.DataFrame(np.array(X))\n",
        "# labels = pd.DataFrame(y)"
      ],
      "execution_count": null,
      "outputs": []
    },
    {
      "cell_type": "code",
      "metadata": {
        "id": "tpK0xQi6Rog-",
        "colab_type": "code",
        "colab": {}
      },
      "source": [
        "# import pandas as pd\n",
        "# from pydrive.auth import GoogleAuth\n",
        "# from pydrive.drive import GoogleDrive\n",
        "# from google.colab import auth\n",
        "# from oauth2client.client import GoogleCredentials\n",
        "# auth.authenticate_user()\n",
        "# gauth = GoogleAuth()\n",
        "# gauth.credentials = GoogleCredentials.get_application_default()\n",
        "# drive = GoogleDrive(gauth)"
      ],
      "execution_count": null,
      "outputs": []
    },
    {
      "cell_type": "code",
      "metadata": {
        "id": "jD67-u1aRsJy",
        "colab_type": "code",
        "colab": {}
      },
      "source": [
        "# f.to_csv('f_happy.csv')\n",
        "# uploaded = drive.CreateFile({'title': 'f_happy.csv'})\n",
        "# uploaded.SetContentFile('f_happy.csv')\n",
        "# uploaded.Upload()\n",
        "\n",
        "# labels.to_csv('labels_happy.csv')\n",
        "# uploaded = drive.CreateFile({'title': 'labels_happy.csv'})\n",
        "# uploaded.SetContentFile('labels_happy.csv')\n",
        "# uploaded.Upload()"
      ],
      "execution_count": null,
      "outputs": []
    },
    {
      "cell_type": "code",
      "metadata": {
        "id": "XM0pvsCiUlKj",
        "colab_type": "code",
        "colab": {
          "base_uri": "https://localhost:8080/",
          "height": 295
        },
        "outputId": "8c2b39dc-12cf-4a58-cf49-b6c682c465d5"
      },
      "source": [
        "print(X_train.shape)\n",
        "print(X_train)\n",
        "print(X_test.shape)\n",
        "print(len(y_train))\n"
      ],
      "execution_count": null,
      "outputs": [
        {
          "output_type": "stream",
          "text": [
            "(7486, 193)\n",
            "[[-3.94441887e+02  1.06979691e+02  4.82726303e+01 ... -2.99466550e-02\n",
            "   1.07045590e-02  1.32417560e-02]\n",
            " [-3.25019119e+02  1.05335713e+02  1.92971513e+01 ... -1.87477570e-02\n",
            "   1.06150320e-02  9.72383000e-04]\n",
            " [-5.18894596e+02  3.56651083e+01 -1.53607746e+01 ...  4.29090200e-03\n",
            "   6.79497000e-04 -8.01410600e-03]\n",
            " ...\n",
            " [-3.95906616e+02  1.07640110e+02  4.70542585e+01 ...  3.01197740e-02\n",
            "   1.72024130e-02  9.63133300e-03]\n",
            " [-4.28209707e+02  9.59509877e+01  4.74728172e+01 ... -1.79338780e-02\n",
            "   7.59434200e-03  4.98271400e-03]\n",
            " [-3.34484303e+02  9.69549918e+01  3.82817765e+01 ... -1.21284230e-02\n",
            "   1.43134200e-02  5.07766600e-03]]\n",
            "(2496, 193)\n",
            "7486\n"
          ],
          "name": "stdout"
        }
      ]
    },
    {
      "cell_type": "code",
      "metadata": {
        "id": "rut8s97WUlm5",
        "colab_type": "code",
        "colab": {
          "base_uri": "https://localhost:8080/",
          "height": 35
        },
        "outputId": "c42908ea-5b74-47ba-f5fd-3fb1666bc190"
      },
      "source": [
        "print(f'Features extracted: {X_train.shape[1]}')"
      ],
      "execution_count": null,
      "outputs": [
        {
          "output_type": "stream",
          "text": [
            "Features extracted: 193\n"
          ],
          "name": "stdout"
        }
      ]
    },
    {
      "cell_type": "code",
      "metadata": {
        "id": "ZZQOx1SuUrdM",
        "colab_type": "code",
        "colab": {}
      },
      "source": [
        "from sklearn.neural_network import MLPClassifier\n",
        "classifier = MLPClassifier(alpha = 0.01, batch_size = 256, epsilon = 1e-08, hidden_layer_sizes = (300,), \n",
        "                    learning_rate='adaptive', max_iter = 500)"
      ],
      "execution_count": null,
      "outputs": []
    },
    {
      "cell_type": "code",
      "metadata": {
        "id": "bBfKSQOrUyaP",
        "colab_type": "code",
        "colab": {
          "base_uri": "https://localhost:8080/",
          "height": 211
        },
        "outputId": "2002f4c5-1f9a-4522-aabd-d49f475834ab"
      },
      "source": [
        "classifier.fit(X_train,y_train)"
      ],
      "execution_count": null,
      "outputs": [
        {
          "output_type": "stream",
          "text": [
            "/usr/local/lib/python3.6/dist-packages/sklearn/neural_network/_multilayer_perceptron.py:934: DataConversionWarning: A column-vector y was passed when a 1d array was expected. Please change the shape of y to (n_samples, ), for example using ravel().\n",
            "  y = column_or_1d(y, warn=True)\n"
          ],
          "name": "stderr"
        },
        {
          "output_type": "execute_result",
          "data": {
            "text/plain": [
              "MLPClassifier(activation='relu', alpha=0.01, batch_size=256, beta_1=0.9,\n",
              "              beta_2=0.999, early_stopping=False, epsilon=1e-08,\n",
              "              hidden_layer_sizes=(300,), learning_rate='adaptive',\n",
              "              learning_rate_init=0.001, max_fun=15000, max_iter=500,\n",
              "              momentum=0.9, n_iter_no_change=10, nesterovs_momentum=True,\n",
              "              power_t=0.5, random_state=None, shuffle=True, solver='adam',\n",
              "              tol=0.0001, validation_fraction=0.1, verbose=False,\n",
              "              warm_start=False)"
            ]
          },
          "metadata": {
            "tags": []
          },
          "execution_count": 16
        }
      ]
    },
    {
      "cell_type": "code",
      "metadata": {
        "id": "Gqg63BjhVhGQ",
        "colab_type": "code",
        "colab": {}
      },
      "source": [
        "y_pred=classifier.predict(X_test)"
      ],
      "execution_count": null,
      "outputs": []
    },
    {
      "cell_type": "code",
      "metadata": {
        "id": "hStB2OdDyItj",
        "colab_type": "code",
        "colab": {
          "base_uri": "https://localhost:8080/",
          "height": 107
        },
        "outputId": "a00cef14-5488-4724-f21e-d8032fa25996"
      },
      "source": [
        "print(X_train.shape)\n",
        "print(X_test.shape)\n",
        "print(y_pred.shape)\n",
        "print(y_test)"
      ],
      "execution_count": null,
      "outputs": [
        {
          "output_type": "stream",
          "text": [
            "(7486, 193)\n",
            "(2496, 193)\n",
            "(2496,)\n",
            "[['disgust'], ['sad'], ['disgust'], ['fear'], ['anger'], ['sad'], ['happy'], ['happy'], ['happy'], ['sad'], ['happy'], ['neutral'], ['anger'], ['fear'], ['fear'], ['sad'], ['fear'], ['anger'], ['disgust'], ['happy'], ['neutral'], ['happy'], ['anger'], ['neutral'], ['anger'], ['fear'], ['sad'], ['happy'], ['sad'], ['neutral'], ['anger'], ['neutral'], ['sad'], ['disgust'], ['anger'], ['sad'], ['happy'], ['fear'], ['disgust'], ['anger'], ['fear'], ['fear'], ['sad'], ['fear'], ['sad'], ['disgust'], ['fear'], ['neutral'], ['neutral'], ['happy'], ['disgust'], ['sad'], ['neutral'], ['anger'], ['disgust'], ['sad'], ['happy'], ['fear'], ['anger'], ['happy'], ['sad'], ['neutral'], ['happy'], ['anger'], ['happy'], ['sad'], ['neutral'], ['fear'], ['anger'], ['disgust'], ['happy'], ['neutral'], ['fear'], ['anger'], ['fear'], ['anger'], ['fear'], ['happy'], ['anger'], ['happy'], ['sad'], ['disgust'], ['sad'], ['happy'], ['neutral'], ['anger'], ['sad'], ['sad'], ['happy'], ['disgust'], ['neutral'], ['disgust'], ['anger'], ['fear'], ['disgust'], ['disgust'], ['anger'], ['sad'], ['neutral'], ['fear'], ['disgust'], ['sad'], ['fear'], ['neutral'], ['disgust'], ['anger'], ['anger'], ['disgust'], ['sad'], ['neutral'], ['disgust'], ['anger'], ['anger'], ['happy'], ['disgust'], ['neutral'], ['fear'], ['neutral'], ['sad'], ['anger'], ['fear'], ['sad'], ['neutral'], ['disgust'], ['happy'], ['happy'], ['anger'], ['neutral'], ['disgust'], ['disgust'], ['neutral'], ['anger'], ['disgust'], ['sad'], ['disgust'], ['neutral'], ['happy'], ['neutral'], ['disgust'], ['disgust'], ['fear'], ['disgust'], ['anger'], ['sad'], ['disgust'], ['anger'], ['neutral'], ['disgust'], ['fear'], ['happy'], ['sad'], ['disgust'], ['happy'], ['anger'], ['sad'], ['disgust'], ['happy'], ['disgust'], ['disgust'], ['sad'], ['disgust'], ['fear'], ['sad'], ['anger'], ['sad'], ['happy'], ['disgust'], ['happy'], ['fear'], ['sad'], ['sad'], ['anger'], ['fear'], ['happy'], ['neutral'], ['sad'], ['fear'], ['fear'], ['anger'], ['disgust'], ['disgust'], ['anger'], ['neutral'], ['disgust'], ['neutral'], ['fear'], ['anger'], ['disgust'], ['anger'], ['neutral'], ['sad'], ['anger'], ['neutral'], ['fear'], ['fear'], ['happy'], ['neutral'], ['fear'], ['anger'], ['disgust'], ['fear'], ['fear'], ['neutral'], ['anger'], ['anger'], ['disgust'], ['disgust'], ['neutral'], ['happy'], ['disgust'], ['anger'], ['anger'], ['anger'], ['happy'], ['anger'], ['disgust'], ['fear'], ['happy'], ['anger'], ['sad'], ['happy'], ['happy'], ['happy'], ['disgust'], ['sad'], ['disgust'], ['fear'], ['happy'], ['fear'], ['disgust'], ['anger'], ['disgust'], ['sad'], ['anger'], ['sad'], ['sad'], ['sad'], ['sad'], ['anger'], ['happy'], ['fear'], ['neutral'], ['fear'], ['disgust'], ['anger'], ['sad'], ['neutral'], ['anger'], ['sad'], ['neutral'], ['neutral'], ['happy'], ['neutral'], ['happy'], ['sad'], ['happy'], ['disgust'], ['fear'], ['anger'], ['disgust'], ['disgust'], ['happy'], ['neutral'], ['disgust'], ['disgust'], ['anger'], ['happy'], ['happy'], ['sad'], ['anger'], ['happy'], ['disgust'], ['sad'], ['anger'], ['disgust'], ['fear'], ['sad'], ['happy'], ['neutral'], ['sad'], ['fear'], ['disgust'], ['disgust'], ['sad'], ['anger'], ['sad'], ['happy'], ['anger'], ['disgust'], ['sad'], ['fear'], ['anger'], ['happy'], ['disgust'], ['disgust'], ['fear'], ['anger'], ['sad'], ['disgust'], ['sad'], ['happy'], ['fear'], ['fear'], ['anger'], ['disgust'], ['anger'], ['neutral'], ['anger'], ['sad'], ['fear'], ['fear'], ['happy'], ['anger'], ['disgust'], ['disgust'], ['anger'], ['anger'], ['anger'], ['disgust'], ['happy'], ['disgust'], ['happy'], ['disgust'], ['neutral'], ['neutral'], ['sad'], ['sad'], ['happy'], ['fear'], ['disgust'], ['anger'], ['sad'], ['anger'], ['anger'], ['neutral'], ['anger'], ['disgust'], ['sad'], ['anger'], ['fear'], ['disgust'], ['sad'], ['happy'], ['happy'], ['anger'], ['anger'], ['neutral'], ['sad'], ['happy'], ['fear'], ['sad'], ['happy'], ['fear'], ['happy'], ['happy'], ['happy'], ['disgust'], ['neutral'], ['neutral'], ['happy'], ['happy'], ['neutral'], ['sad'], ['sad'], ['fear'], ['happy'], ['anger'], ['anger'], ['fear'], ['disgust'], ['happy'], ['neutral'], ['fear'], ['sad'], ['sad'], ['anger'], ['disgust'], ['sad'], ['anger'], ['fear'], ['disgust'], ['anger'], ['happy'], ['happy'], ['anger'], ['fear'], ['sad'], ['sad'], ['anger'], ['anger'], ['anger'], ['anger'], ['anger'], ['happy'], ['neutral'], ['happy'], ['sad'], ['fear'], ['disgust'], ['sad'], ['fear'], ['happy'], ['happy'], ['fear'], ['happy'], ['happy'], ['neutral'], ['fear'], ['happy'], ['neutral'], ['disgust'], ['neutral'], ['neutral'], ['sad'], ['fear'], ['happy'], ['fear'], ['sad'], ['fear'], ['anger'], ['fear'], ['sad'], ['happy'], ['happy'], ['disgust'], ['sad'], ['disgust'], ['neutral'], ['happy'], ['disgust'], ['disgust'], ['fear'], ['anger'], ['neutral'], ['happy'], ['sad'], ['anger'], ['disgust'], ['fear'], ['happy'], ['disgust'], ['anger'], ['disgust'], ['happy'], ['fear'], ['sad'], ['disgust'], ['happy'], ['happy'], ['happy'], ['disgust'], ['happy'], ['fear'], ['disgust'], ['disgust'], ['neutral'], ['happy'], ['anger'], ['disgust'], ['sad'], ['anger'], ['happy'], ['sad'], ['disgust'], ['anger'], ['happy'], ['anger'], ['disgust'], ['disgust'], ['fear'], ['disgust'], ['happy'], ['happy'], ['fear'], ['disgust'], ['fear'], ['happy'], ['fear'], ['neutral'], ['fear'], ['anger'], ['happy'], ['disgust'], ['disgust'], ['happy'], ['anger'], ['sad'], ['sad'], ['sad'], ['disgust'], ['disgust'], ['disgust'], ['sad'], ['sad'], ['disgust'], ['sad'], ['happy'], ['fear'], ['anger'], ['neutral'], ['anger'], ['sad'], ['sad'], ['anger'], ['fear'], ['fear'], ['anger'], ['happy'], ['fear'], ['neutral'], ['disgust'], ['neutral'], ['fear'], ['fear'], ['anger'], ['neutral'], ['anger'], ['neutral'], ['neutral'], ['fear'], ['neutral'], ['neutral'], ['anger'], ['anger'], ['neutral'], ['fear'], ['disgust'], ['sad'], ['sad'], ['anger'], ['disgust'], ['sad'], ['anger'], ['disgust'], ['sad'], ['anger'], ['disgust'], ['fear'], ['neutral'], ['anger'], ['anger'], ['anger'], ['disgust'], ['disgust'], ['fear'], ['disgust'], ['happy'], ['fear'], ['happy'], ['sad'], ['fear'], ['happy'], ['disgust'], ['disgust'], ['sad'], ['happy'], ['anger'], ['happy'], ['anger'], ['disgust'], ['disgust'], ['anger'], ['fear'], ['anger'], ['disgust'], ['happy'], ['disgust'], ['sad'], ['neutral'], ['fear'], ['disgust'], ['disgust'], ['happy'], ['happy'], ['disgust'], ['neutral'], ['neutral'], ['fear'], ['happy'], ['neutral'], ['anger'], ['sad'], ['anger'], ['disgust'], ['happy'], ['neutral'], ['disgust'], ['disgust'], ['sad'], ['neutral'], ['fear'], ['anger'], ['fear'], ['neutral'], ['sad'], ['happy'], ['neutral'], ['anger'], ['happy'], ['neutral'], ['anger'], ['happy'], ['sad'], ['anger'], ['neutral'], ['anger'], ['happy'], ['happy'], ['sad'], ['disgust'], ['happy'], ['fear'], ['anger'], ['happy'], ['happy'], ['anger'], ['happy'], ['happy'], ['anger'], ['sad'], ['disgust'], ['neutral'], ['happy'], ['neutral'], ['sad'], ['sad'], ['happy'], ['sad'], ['happy'], ['fear'], ['neutral'], ['neutral'], ['anger'], ['anger'], ['fear'], ['anger'], ['disgust'], ['sad'], ['neutral'], ['sad'], ['sad'], ['disgust'], ['anger'], ['neutral'], ['disgust'], ['anger'], ['fear'], ['anger'], ['neutral'], ['anger'], ['happy'], ['happy'], ['anger'], ['fear'], ['sad'], ['anger'], ['sad'], ['happy'], ['disgust'], ['fear'], ['fear'], ['fear'], ['anger'], ['neutral'], ['disgust'], ['anger'], ['happy'], ['neutral'], ['fear'], ['neutral'], ['happy'], ['anger'], ['happy'], ['disgust'], ['anger'], ['sad'], ['neutral'], ['disgust'], ['fear'], ['sad'], ['sad'], ['neutral'], ['disgust'], ['anger'], ['fear'], ['disgust'], ['fear'], ['fear'], ['anger'], ['happy'], ['neutral'], ['disgust'], ['sad'], ['sad'], ['disgust'], ['fear'], ['fear'], ['happy'], ['disgust'], ['happy'], ['sad'], ['happy'], ['happy'], ['happy'], ['anger'], ['neutral'], ['happy'], ['neutral'], ['anger'], ['sad'], ['happy'], ['disgust'], ['disgust'], ['fear'], ['anger'], ['fear'], ['neutral'], ['neutral'], ['happy'], ['neutral'], ['sad'], ['disgust'], ['sad'], ['anger'], ['anger'], ['disgust'], ['happy'], ['disgust'], ['fear'], ['anger'], ['fear'], ['neutral'], ['sad'], ['sad'], ['fear'], ['neutral'], ['anger'], ['fear'], ['anger'], ['fear'], ['fear'], ['anger'], ['disgust'], ['happy'], ['sad'], ['disgust'], ['fear'], ['disgust'], ['fear'], ['happy'], ['neutral'], ['fear'], ['neutral'], ['fear'], ['fear'], ['disgust'], ['anger'], ['sad'], ['happy'], ['sad'], ['anger'], ['disgust'], ['anger'], ['disgust'], ['fear'], ['neutral'], ['neutral'], ['happy'], ['anger'], ['neutral'], ['happy'], ['neutral'], ['sad'], ['disgust'], ['sad'], ['sad'], ['anger'], ['anger'], ['neutral'], ['sad'], ['anger'], ['disgust'], ['happy'], ['anger'], ['anger'], ['disgust'], ['anger'], ['neutral'], ['disgust'], ['anger'], ['neutral'], ['fear'], ['anger'], ['sad'], ['sad'], ['sad'], ['anger'], ['disgust'], ['anger'], ['neutral'], ['disgust'], ['disgust'], ['anger'], ['disgust'], ['happy'], ['fear'], ['sad'], ['anger'], ['happy'], ['sad'], ['happy'], ['happy'], ['anger'], ['anger'], ['happy'], ['neutral'], ['sad'], ['happy'], ['fear'], ['anger'], ['disgust'], ['neutral'], ['neutral'], ['sad'], ['fear'], ['disgust'], ['fear'], ['sad'], ['anger'], ['anger'], ['happy'], ['disgust'], ['neutral'], ['happy'], ['sad'], ['sad'], ['happy'], ['sad'], ['happy'], ['fear'], ['fear'], ['neutral'], ['disgust'], ['sad'], ['disgust'], ['neutral'], ['fear'], ['fear'], ['happy'], ['neutral'], ['anger'], ['disgust'], ['sad'], ['neutral'], ['disgust'], ['anger'], ['disgust'], ['anger'], ['sad'], ['anger'], ['disgust'], ['neutral'], ['anger'], ['sad'], ['disgust'], ['happy'], ['sad'], ['fear'], ['sad'], ['anger'], ['happy'], ['anger'], ['disgust'], ['sad'], ['happy'], ['happy'], ['fear'], ['fear'], ['fear'], ['sad'], ['happy'], ['sad'], ['disgust'], ['happy'], ['fear'], ['happy'], ['fear'], ['neutral'], ['disgust'], ['disgust'], ['anger'], ['fear'], ['fear'], ['anger'], ['neutral'], ['neutral'], ['anger'], ['sad'], ['happy'], ['fear'], ['neutral'], ['sad'], ['happy'], ['fear'], ['anger'], ['anger'], ['neutral'], ['fear'], ['anger'], ['sad'], ['fear'], ['anger'], ['happy'], ['anger'], ['fear'], ['neutral'], ['neutral'], ['happy'], ['neutral'], ['sad'], ['happy'], ['neutral'], ['sad'], ['happy'], ['sad'], ['disgust'], ['fear'], ['anger'], ['happy'], ['sad'], ['disgust'], ['sad'], ['neutral'], ['happy'], ['fear'], ['happy'], ['sad'], ['happy'], ['neutral'], ['disgust'], ['anger'], ['fear'], ['neutral'], ['neutral'], ['disgust'], ['disgust'], ['fear'], ['disgust'], ['fear'], ['happy'], ['anger'], ['neutral'], ['happy'], ['anger'], ['neutral'], ['disgust'], ['anger'], ['sad'], ['fear'], ['neutral'], ['disgust'], ['disgust'], ['anger'], ['neutral'], ['neutral'], ['disgust'], ['disgust'], ['fear'], ['sad'], ['anger'], ['happy'], ['disgust'], ['disgust'], ['anger'], ['anger'], ['disgust'], ['neutral'], ['disgust'], ['disgust'], ['neutral'], ['fear'], ['neutral'], ['disgust'], ['happy'], ['neutral'], ['disgust'], ['disgust'], ['fear'], ['fear'], ['neutral'], ['sad'], ['happy'], ['anger'], ['anger'], ['disgust'], ['neutral'], ['sad'], ['fear'], ['anger'], ['disgust'], ['neutral'], ['disgust'], ['happy'], ['happy'], ['happy'], ['neutral'], ['sad'], ['disgust'], ['anger'], ['sad'], ['anger'], ['sad'], ['neutral'], ['sad'], ['sad'], ['sad'], ['anger'], ['happy'], ['anger'], ['neutral'], ['fear'], ['happy'], ['sad'], ['neutral'], ['happy'], ['sad'], ['anger'], ['sad'], ['disgust'], ['happy'], ['fear'], ['disgust'], ['anger'], ['disgust'], ['happy'], ['disgust'], ['fear'], ['fear'], ['disgust'], ['happy'], ['fear'], ['sad'], ['happy'], ['fear'], ['neutral'], ['sad'], ['happy'], ['neutral'], ['disgust'], ['anger'], ['fear'], ['neutral'], ['sad'], ['anger'], ['happy'], ['disgust'], ['neutral'], ['disgust'], ['anger'], ['fear'], ['anger'], ['sad'], ['happy'], ['anger'], ['anger'], ['disgust'], ['disgust'], ['disgust'], ['anger'], ['anger'], ['neutral'], ['disgust'], ['neutral'], ['sad'], ['happy'], ['disgust'], ['neutral'], ['happy'], ['neutral'], ['fear'], ['happy'], ['anger'], ['fear'], ['happy'], ['fear'], ['neutral'], ['anger'], ['disgust'], ['disgust'], ['anger'], ['anger'], ['anger'], ['fear'], ['disgust'], ['disgust'], ['fear'], ['disgust'], ['sad'], ['sad'], ['sad'], ['disgust'], ['sad'], ['anger'], ['sad'], ['fear'], ['disgust'], ['fear'], ['disgust'], ['disgust'], ['neutral'], ['anger'], ['disgust'], ['anger'], ['disgust'], ['happy'], ['fear'], ['neutral'], ['neutral'], ['anger'], ['disgust'], ['disgust'], ['disgust'], ['neutral'], ['neutral'], ['neutral'], ['sad'], ['neutral'], ['disgust'], ['sad'], ['happy'], ['happy'], ['fear'], ['happy'], ['disgust'], ['neutral'], ['neutral'], ['sad'], ['anger'], ['sad'], ['anger'], ['anger'], ['sad'], ['fear'], ['disgust'], ['sad'], ['sad'], ['fear'], ['happy'], ['disgust'], ['disgust'], ['disgust'], ['happy'], ['disgust'], ['sad'], ['neutral'], ['anger'], ['happy'], ['neutral'], ['disgust'], ['happy'], ['disgust'], ['neutral'], ['happy'], ['sad'], ['happy'], ['happy'], ['fear'], ['disgust'], ['anger'], ['sad'], ['neutral'], ['disgust'], ['happy'], ['neutral'], ['happy'], ['neutral'], ['sad'], ['fear'], ['fear'], ['anger'], ['neutral'], ['happy'], ['neutral'], ['neutral'], ['anger'], ['fear'], ['disgust'], ['neutral'], ['happy'], ['happy'], ['disgust'], ['neutral'], ['anger'], ['happy'], ['happy'], ['sad'], ['neutral'], ['sad'], ['anger'], ['anger'], ['happy'], ['anger'], ['disgust'], ['sad'], ['happy'], ['neutral'], ['neutral'], ['sad'], ['happy'], ['anger'], ['neutral'], ['sad'], ['neutral'], ['fear'], ['fear'], ['happy'], ['disgust'], ['anger'], ['anger'], ['fear'], ['disgust'], ['neutral'], ['neutral'], ['sad'], ['disgust'], ['happy'], ['neutral'], ['fear'], ['neutral'], ['neutral'], ['neutral'], ['neutral'], ['neutral'], ['fear'], ['sad'], ['sad'], ['happy'], ['anger'], ['disgust'], ['sad'], ['disgust'], ['anger'], ['disgust'], ['sad'], ['anger'], ['anger'], ['happy'], ['fear'], ['sad'], ['disgust'], ['happy'], ['happy'], ['neutral'], ['disgust'], ['anger'], ['fear'], ['disgust'], ['disgust'], ['fear'], ['neutral'], ['happy'], ['happy'], ['disgust'], ['neutral'], ['happy'], ['disgust'], ['happy'], ['neutral'], ['happy'], ['neutral'], ['neutral'], ['neutral'], ['anger'], ['disgust'], ['sad'], ['disgust'], ['fear'], ['neutral'], ['happy'], ['sad'], ['anger'], ['fear'], ['sad'], ['sad'], ['fear'], ['sad'], ['anger'], ['anger'], ['fear'], ['anger'], ['happy'], ['happy'], ['neutral'], ['happy'], ['disgust'], ['anger'], ['disgust'], ['anger'], ['neutral'], ['anger'], ['anger'], ['happy'], ['anger'], ['happy'], ['fear'], ['disgust'], ['anger'], ['sad'], ['disgust'], ['sad'], ['anger'], ['neutral'], ['neutral'], ['happy'], ['neutral'], ['disgust'], ['disgust'], ['disgust'], ['sad'], ['happy'], ['fear'], ['sad'], ['fear'], ['anger'], ['disgust'], ['anger'], ['sad'], ['disgust'], ['neutral'], ['disgust'], ['neutral'], ['anger'], ['happy'], ['anger'], ['sad'], ['disgust'], ['sad'], ['sad'], ['fear'], ['fear'], ['disgust'], ['sad'], ['neutral'], ['anger'], ['fear'], ['neutral'], ['anger'], ['sad'], ['anger'], ['happy'], ['fear'], ['anger'], ['happy'], ['neutral'], ['sad'], ['neutral'], ['sad'], ['happy'], ['disgust'], ['happy'], ['happy'], ['happy'], ['anger'], ['happy'], ['disgust'], ['fear'], ['anger'], ['disgust'], ['fear'], ['neutral'], ['disgust'], ['anger'], ['happy'], ['happy'], ['disgust'], ['sad'], ['disgust'], ['neutral'], ['happy'], ['fear'], ['happy'], ['fear'], ['disgust'], ['neutral'], ['anger'], ['anger'], ['happy'], ['neutral'], ['sad'], ['sad'], ['anger'], ['disgust'], ['fear'], ['disgust'], ['anger'], ['disgust'], ['anger'], ['disgust'], ['sad'], ['sad'], ['neutral'], ['fear'], ['neutral'], ['fear'], ['fear'], ['disgust'], ['sad'], ['anger'], ['sad'], ['fear'], ['sad'], ['neutral'], ['neutral'], ['happy'], ['anger'], ['neutral'], ['anger'], ['sad'], ['anger'], ['anger'], ['neutral'], ['happy'], ['happy'], ['disgust'], ['neutral'], ['sad'], ['neutral'], ['disgust'], ['happy'], ['fear'], ['disgust'], ['happy'], ['sad'], ['anger'], ['anger'], ['anger'], ['neutral'], ['happy'], ['happy'], ['anger'], ['neutral'], ['neutral'], ['anger'], ['happy'], ['sad'], ['neutral'], ['happy'], ['neutral'], ['anger'], ['anger'], ['fear'], ['anger'], ['happy'], ['neutral'], ['fear'], ['fear'], ['disgust'], ['sad'], ['disgust'], ['disgust'], ['neutral'], ['neutral'], ['disgust'], ['happy'], ['sad'], ['disgust'], ['fear'], ['anger'], ['sad'], ['happy'], ['disgust'], ['fear'], ['fear'], ['sad'], ['happy'], ['neutral'], ['happy'], ['sad'], ['disgust'], ['anger'], ['happy'], ['sad'], ['disgust'], ['disgust'], ['sad'], ['happy'], ['sad'], ['disgust'], ['happy'], ['anger'], ['neutral'], ['sad'], ['happy'], ['fear'], ['disgust'], ['neutral'], ['disgust'], ['happy'], ['anger'], ['neutral'], ['disgust'], ['anger'], ['disgust'], ['happy'], ['anger'], ['sad'], ['disgust'], ['anger'], ['sad'], ['disgust'], ['disgust'], ['sad'], ['sad'], ['fear'], ['anger'], ['sad'], ['anger'], ['neutral'], ['sad'], ['happy'], ['happy'], ['happy'], ['happy'], ['sad'], ['disgust'], ['sad'], ['anger'], ['happy'], ['happy'], ['sad'], ['happy'], ['fear'], ['happy'], ['neutral'], ['sad'], ['fear'], ['anger'], ['sad'], ['anger'], ['happy'], ['fear'], ['disgust'], ['disgust'], ['fear'], ['sad'], ['fear'], ['happy'], ['disgust'], ['happy'], ['anger'], ['anger'], ['sad'], ['happy'], ['fear'], ['neutral'], ['happy'], ['disgust'], ['happy'], ['fear'], ['disgust'], ['fear'], ['happy'], ['sad'], ['fear'], ['fear'], ['anger'], ['disgust'], ['anger'], ['anger'], ['happy'], ['sad'], ['fear'], ['neutral'], ['happy'], ['neutral'], ['sad'], ['sad'], ['neutral'], ['neutral'], ['sad'], ['fear'], ['anger'], ['sad'], ['sad'], ['neutral'], ['happy'], ['happy'], ['neutral'], ['neutral'], ['fear'], ['neutral'], ['anger'], ['fear'], ['happy'], ['happy'], ['anger'], ['sad'], ['happy'], ['anger'], ['happy'], ['fear'], ['fear'], ['fear'], ['fear'], ['anger'], ['anger'], ['anger'], ['anger'], ['anger'], ['anger'], ['disgust'], ['fear'], ['anger'], ['fear'], ['disgust'], ['happy'], ['disgust'], ['fear'], ['anger'], ['anger'], ['happy'], ['fear'], ['happy'], ['disgust'], ['fear'], ['happy'], ['anger'], ['neutral'], ['anger'], ['sad'], ['happy'], ['neutral'], ['anger'], ['fear'], ['anger'], ['neutral'], ['sad'], ['disgust'], ['neutral'], ['disgust'], ['disgust'], ['sad'], ['fear'], ['fear'], ['anger'], ['neutral'], ['fear'], ['fear'], ['disgust'], ['neutral'], ['fear'], ['happy'], ['happy'], ['sad'], ['fear'], ['neutral'], ['neutral'], ['disgust'], ['disgust'], ['disgust'], ['disgust'], ['fear'], ['sad'], ['sad'], ['neutral'], ['neutral'], ['sad'], ['happy'], ['happy'], ['neutral'], ['sad'], ['happy'], ['disgust'], ['neutral'], ['anger'], ['anger'], ['disgust'], ['fear'], ['fear'], ['anger'], ['neutral'], ['fear'], ['fear'], ['sad'], ['fear'], ['disgust'], ['fear'], ['neutral'], ['fear'], ['fear'], ['happy'], ['sad'], ['sad'], ['fear'], ['happy'], ['sad'], ['anger'], ['fear'], ['happy'], ['neutral'], ['sad'], ['neutral'], ['anger'], ['fear'], ['anger'], ['neutral'], ['disgust'], ['fear'], ['disgust'], ['anger'], ['disgust'], ['anger'], ['neutral'], ['happy'], ['anger'], ['neutral'], ['fear'], ['fear'], ['anger'], ['fear'], ['happy'], ['anger'], ['disgust'], ['neutral'], ['disgust'], ['sad'], ['sad'], ['disgust'], ['sad'], ['anger'], ['happy'], ['fear'], ['anger'], ['disgust'], ['happy'], ['disgust'], ['disgust'], ['fear'], ['fear'], ['anger'], ['anger'], ['anger'], ['fear'], ['anger'], ['anger'], ['anger'], ['happy'], ['sad'], ['anger'], ['disgust'], ['disgust'], ['disgust'], ['happy'], ['happy'], ['fear'], ['neutral'], ['neutral'], ['disgust'], ['fear'], ['happy'], ['happy'], ['neutral'], ['neutral'], ['anger'], ['disgust'], ['disgust'], ['fear'], ['anger'], ['sad'], ['happy'], ['fear'], ['fear'], ['disgust'], ['sad'], ['anger'], ['sad'], ['disgust'], ['sad'], ['happy'], ['anger'], ['anger'], ['disgust'], ['fear'], ['fear'], ['neutral'], ['neutral'], ['happy'], ['neutral'], ['fear'], ['sad'], ['sad'], ['fear'], ['disgust'], ['sad'], ['happy'], ['disgust'], ['neutral'], ['sad'], ['fear'], ['fear'], ['fear'], ['neutral'], ['fear'], ['happy'], ['disgust'], ['sad'], ['neutral'], ['anger'], ['disgust'], ['anger'], ['neutral'], ['happy'], ['happy'], ['happy'], ['disgust'], ['disgust'], ['fear'], ['sad'], ['disgust'], ['disgust'], ['sad'], ['anger'], ['fear'], ['sad'], ['happy'], ['happy'], ['neutral'], ['disgust'], ['disgust'], ['sad'], ['happy'], ['neutral'], ['disgust'], ['anger'], ['anger'], ['disgust'], ['disgust'], ['disgust'], ['neutral'], ['sad'], ['happy'], ['neutral'], ['anger'], ['neutral'], ['fear'], ['happy'], ['fear'], ['happy'], ['happy'], ['sad'], ['neutral'], ['fear'], ['fear'], ['disgust'], ['happy'], ['happy'], ['neutral'], ['fear'], ['neutral'], ['happy'], ['disgust'], ['disgust'], ['disgust'], ['fear'], ['anger'], ['anger'], ['sad'], ['happy'], ['sad'], ['fear'], ['disgust'], ['fear'], ['neutral'], ['neutral'], ['disgust'], ['happy'], ['fear'], ['disgust'], ['disgust'], ['anger'], ['happy'], ['happy'], ['fear'], ['disgust'], ['neutral'], ['fear'], ['anger'], ['sad'], ['happy'], ['fear'], ['happy'], ['fear'], ['happy'], ['anger'], ['anger'], ['fear'], ['disgust'], ['fear'], ['happy'], ['sad'], ['neutral'], ['fear'], ['disgust'], ['sad'], ['sad'], ['neutral'], ['disgust'], ['sad'], ['happy'], ['anger'], ['happy'], ['fear'], ['sad'], ['neutral'], ['disgust'], ['sad'], ['neutral'], ['happy'], ['disgust'], ['happy'], ['neutral'], ['happy'], ['neutral'], ['neutral'], ['sad'], ['neutral'], ['sad'], ['fear'], ['happy'], ['neutral'], ['disgust'], ['neutral'], ['anger'], ['sad'], ['sad'], ['fear'], ['happy'], ['anger'], ['disgust'], ['fear'], ['sad'], ['happy'], ['fear'], ['neutral'], ['happy'], ['disgust'], ['disgust'], ['disgust'], ['fear'], ['anger'], ['sad'], ['disgust'], ['happy'], ['sad'], ['sad'], ['disgust'], ['anger'], ['fear'], ['anger'], ['sad'], ['anger'], ['anger'], ['sad'], ['sad'], ['anger'], ['happy'], ['disgust'], ['neutral'], ['neutral'], ['happy'], ['sad'], ['neutral'], ['sad'], ['fear'], ['sad'], ['sad'], ['happy'], ['anger'], ['neutral'], ['anger'], ['neutral'], ['happy'], ['neutral'], ['fear'], ['disgust'], ['fear'], ['disgust'], ['neutral'], ['neutral'], ['neutral'], ['sad'], ['neutral'], ['disgust'], ['anger'], ['sad'], ['fear'], ['neutral'], ['fear'], ['disgust'], ['fear'], ['sad'], ['anger'], ['fear'], ['sad'], ['happy'], ['happy'], ['anger'], ['neutral'], ['fear'], ['happy'], ['neutral'], ['happy'], ['disgust'], ['fear'], ['sad'], ['happy'], ['happy'], ['fear'], ['neutral'], ['anger'], ['neutral'], ['neutral'], ['sad'], ['sad'], ['anger'], ['sad'], ['sad'], ['neutral'], ['sad'], ['anger'], ['sad'], ['fear'], ['neutral'], ['fear'], ['fear'], ['neutral'], ['sad'], ['disgust'], ['happy'], ['fear'], ['fear'], ['disgust'], ['disgust'], ['neutral'], ['fear'], ['disgust'], ['disgust'], ['happy'], ['happy'], ['fear'], ['anger'], ['fear'], ['happy'], ['disgust'], ['fear'], ['happy'], ['fear'], ['anger'], ['neutral'], ['happy'], ['disgust'], ['anger'], ['anger'], ['happy'], ['anger'], ['happy'], ['happy'], ['sad'], ['neutral'], ['disgust'], ['fear'], ['disgust'], ['sad'], ['neutral'], ['fear'], ['neutral'], ['anger'], ['anger'], ['sad'], ['disgust'], ['fear'], ['anger'], ['happy'], ['fear'], ['sad'], ['sad'], ['sad'], ['happy'], ['happy'], ['anger'], ['happy'], ['happy'], ['fear'], ['sad'], ['neutral'], ['fear'], ['happy'], ['neutral'], ['happy'], ['fear'], ['disgust'], ['anger'], ['disgust'], ['anger'], ['disgust'], ['fear'], ['sad'], ['sad'], ['anger'], ['anger'], ['disgust'], ['neutral'], ['neutral'], ['anger'], ['neutral'], ['disgust'], ['happy'], ['anger'], ['disgust'], ['happy'], ['happy'], ['sad'], ['neutral'], ['disgust'], ['sad'], ['sad'], ['anger'], ['fear'], ['sad'], ['sad'], ['anger'], ['anger'], ['fear'], ['sad'], ['sad'], ['sad'], ['happy'], ['neutral'], ['neutral'], ['disgust'], ['anger'], ['happy'], ['happy'], ['sad'], ['anger'], ['sad'], ['fear'], ['sad'], ['disgust'], ['anger'], ['happy'], ['anger'], ['sad'], ['sad'], ['anger'], ['sad'], ['anger'], ['fear'], ['anger'], ['sad'], ['fear'], ['neutral'], ['neutral'], ['fear'], ['disgust'], ['sad'], ['disgust'], ['anger'], ['sad'], ['happy'], ['sad'], ['fear'], ['fear'], ['happy'], ['neutral'], ['sad'], ['anger'], ['neutral'], ['anger'], ['disgust'], ['happy'], ['happy'], ['anger'], ['anger'], ['fear'], ['disgust'], ['anger'], ['disgust'], ['fear'], ['sad'], ['neutral'], ['neutral'], ['disgust'], ['fear'], ['anger'], ['fear'], ['happy'], ['neutral'], ['sad'], ['fear'], ['disgust'], ['anger'], ['anger'], ['sad'], ['disgust'], ['anger'], ['neutral'], ['disgust'], ['happy'], ['happy'], ['disgust'], ['disgust'], ['sad'], ['sad'], ['neutral'], ['anger'], ['sad'], ['happy'], ['disgust'], ['happy'], ['disgust'], ['anger'], ['happy'], ['sad'], ['disgust'], ['happy'], ['neutral'], ['fear'], ['fear'], ['fear'], ['happy'], ['anger'], ['neutral'], ['fear'], ['happy'], ['neutral'], ['happy'], ['happy'], ['disgust'], ['sad'], ['anger'], ['fear'], ['neutral'], ['anger'], ['happy'], ['anger'], ['fear'], ['neutral'], ['disgust'], ['neutral'], ['anger'], ['anger'], ['happy'], ['happy'], ['neutral'], ['fear'], ['fear'], ['sad'], ['disgust'], ['sad'], ['sad'], ['fear'], ['fear'], ['sad'], ['sad'], ['fear'], ['disgust'], ['happy'], ['neutral'], ['happy'], ['neutral'], ['anger'], ['disgust'], ['sad'], ['happy'], ['fear'], ['neutral'], ['disgust'], ['happy'], ['disgust'], ['disgust'], ['neutral'], ['happy'], ['neutral'], ['disgust'], ['neutral'], ['anger'], ['disgust'], ['anger'], ['happy'], ['sad'], ['fear'], ['fear'], ['sad'], ['sad'], ['disgust'], ['fear'], ['sad'], ['happy'], ['disgust'], ['sad'], ['sad'], ['disgust'], ['sad'], ['anger'], ['anger'], ['fear'], ['anger'], ['sad'], ['neutral'], ['sad'], ['sad'], ['anger'], ['disgust'], ['happy'], ['neutral'], ['anger'], ['anger'], ['neutral'], ['sad'], ['fear'], ['sad'], ['anger'], ['sad'], ['fear'], ['neutral'], ['fear'], ['sad'], ['sad'], ['neutral'], ['fear'], ['anger'], ['sad'], ['fear'], ['sad'], ['disgust'], ['sad'], ['sad'], ['fear'], ['happy'], ['sad'], ['sad'], ['anger'], ['disgust'], ['anger'], ['happy'], ['sad'], ['disgust'], ['happy'], ['sad'], ['happy'], ['anger'], ['disgust'], ['happy'], ['neutral'], ['anger'], ['disgust'], ['fear'], ['happy'], ['fear'], ['neutral'], ['neutral'], ['disgust'], ['sad'], ['fear'], ['happy'], ['sad'], ['fear'], ['neutral'], ['anger'], ['sad'], ['sad'], ['sad'], ['happy'], ['neutral'], ['anger'], ['fear'], ['happy'], ['disgust'], ['sad'], ['fear'], ['happy'], ['anger'], ['sad'], ['anger'], ['happy'], ['happy'], ['neutral'], ['fear'], ['disgust'], ['fear'], ['neutral'], ['happy'], ['neutral'], ['happy'], ['disgust'], ['sad'], ['sad'], ['neutral'], ['disgust'], ['sad'], ['disgust'], ['happy'], ['disgust'], ['sad'], ['sad'], ['happy'], ['neutral'], ['disgust'], ['sad'], ['neutral'], ['neutral'], ['anger'], ['disgust'], ['neutral'], ['fear'], ['happy'], ['anger'], ['sad'], ['neutral'], ['disgust'], ['sad'], ['fear'], ['happy'], ['happy'], ['disgust'], ['fear'], ['disgust'], ['happy'], ['fear'], ['neutral'], ['sad'], ['disgust'], ['anger'], ['neutral'], ['fear'], ['disgust'], ['anger'], ['happy'], ['sad'], ['sad'], ['happy'], ['sad'], ['happy'], ['happy'], ['disgust'], ['happy'], ['neutral'], ['anger'], ['sad'], ['fear'], ['happy'], ['neutral'], ['anger'], ['disgust'], ['neutral'], ['happy'], ['sad'], ['happy'], ['anger'], ['sad'], ['anger'], ['disgust'], ['anger'], ['sad'], ['disgust'], ['anger'], ['happy'], ['fear'], ['happy'], ['happy'], ['happy'], ['neutral'], ['neutral'], ['sad'], ['neutral'], ['sad'], ['sad'], ['disgust'], ['sad'], ['happy'], ['anger'], ['anger'], ['happy'], ['anger'], ['happy'], ['sad'], ['sad'], ['neutral'], ['happy'], ['sad'], ['happy'], ['happy'], ['fear'], ['disgust'], ['fear']]\n"
          ],
          "name": "stdout"
        }
      ]
    },
    {
      "cell_type": "code",
      "metadata": {
        "id": "RupBMI7gU43a",
        "colab_type": "code",
        "colab": {}
      },
      "source": [
        "from sklearn.metrics import accuracy_score\n",
        "accuracy = accuracy_score(y_true = y_test, y_pred = y_pred)"
      ],
      "execution_count": null,
      "outputs": []
    },
    {
      "cell_type": "code",
      "metadata": {
        "id": "ekWsKcmgU6li",
        "colab_type": "code",
        "colab": {
          "base_uri": "https://localhost:8080/",
          "height": 35
        },
        "outputId": "084d76c4-6fe5-441e-f159-c7ebdbe04b28"
      },
      "source": [
        "print(\"Accuracy: {:.2f}%\".format(accuracy*100))"
      ],
      "execution_count": null,
      "outputs": [
        {
          "output_type": "stream",
          "text": [
            "Accuracy: 60.74%\n"
          ],
          "name": "stdout"
        }
      ]
    },
    {
      "cell_type": "code",
      "metadata": {
        "id": "_GQFga9-fE7m",
        "colab_type": "code",
        "colab": {}
      },
      "source": [
        "from sklearn.metrics import classification_report\n",
        "from sklearn.datasets import make_classification\n",
        "from sklearn.metrics import confusion_matrix"
      ],
      "execution_count": null,
      "outputs": []
    },
    {
      "cell_type": "code",
      "metadata": {
        "id": "eeSG0qGGdp2K",
        "colab_type": "code",
        "colab": {
          "base_uri": "https://localhost:8080/",
          "height": 243
        },
        "outputId": "3d59fa76-b20b-4767-f08c-4feb933b5894"
      },
      "source": [
        "classes = ('anger', 'happy', 'neutral', 'sad','fear','disgust')\n",
        "\n",
        "target_names = classes\n",
        "print(classification_report(y_test, y_pred, target_names=target_names))\n",
        "\n"
      ],
      "execution_count": null,
      "outputs": [
        {
          "output_type": "stream",
          "text": [
            "              precision    recall  f1-score   support\n",
            "\n",
            "       anger       0.74      0.70      0.72       438\n",
            "       happy       0.69      0.40      0.51       442\n",
            "     neutral       0.53      0.57      0.55       380\n",
            "         sad       0.65      0.55      0.59       439\n",
            "        fear       0.49      0.76      0.59       376\n",
            "     disgust       0.62      0.69      0.65       421\n",
            "\n",
            "    accuracy                           0.61      2496\n",
            "   macro avg       0.62      0.61      0.60      2496\n",
            "weighted avg       0.63      0.61      0.60      2496\n",
            "\n"
          ],
          "name": "stdout"
        }
      ]
    },
    {
      "cell_type": "code",
      "metadata": {
        "id": "L79BVtUEjYYO",
        "colab_type": "code",
        "colab": {
          "base_uri": "https://localhost:8080/",
          "height": 595
        },
        "outputId": "e5d37127-8594-487b-901b-04ba9ebad1cb"
      },
      "source": [
        "\n",
        "# Plot non-normalized confusion matrix\n",
        "import seaborn as sn\n",
        "import pandas as pd\n",
        "#!pip install matplotlib==3.1.0 # Solves the confusion matrix gets cut\n",
        "cm = confusion_matrix(y_test, y_pred, labels=[\"anger\", \"happy\", \"neutral\", \"sad\",\"fear\",\"disgust\"])\n",
        "print(cm)\n",
        "df_cm = pd.DataFrame(cm, range(len(cm)),\n",
        "                  range(len(cm)))\n",
        "\n",
        "plt.figure(figsize=(10,7))\n",
        "sn.set(font_scale=1.4)#for label size\n",
        "sn.heatmap(df_cm, annot=True,annot_kws={\"size\": 14})# font size\n",
        "\n",
        "plt.show()"
      ],
      "execution_count": null,
      "outputs": [
        {
          "output_type": "stream",
          "text": [
            "[[308  56  15   1  34  24]\n",
            " [ 49 240  65  16  46  23]\n",
            " [  8   5 284  48  23   8]\n",
            " [  0   6  71 290  44  10]\n",
            " [ 25  35  36  53 218  13]\n",
            " [ 25  26 109  58  48 176]]\n"
          ],
          "name": "stdout"
        },
        {
          "output_type": "stream",
          "text": [
            "/usr/local/lib/python3.6/dist-packages/statsmodels/tools/_testing.py:19: FutureWarning: pandas.util.testing is deprecated. Use the functions in the public API at pandas.testing instead.\n",
            "  import pandas.util.testing as tm\n"
          ],
          "name": "stderr"
        },
        {
          "output_type": "display_data",
          "data": {
            "image/png": "[encoded data removed]",
            "text/plain": [
              "<Figure size 720x504 with 2 Axes>"
            ]
          },
          "metadata": {
            "tags": [],
            "needs_background": "light"
          }
        }
      ]
    },
    {
      "cell_type": "code",
      "metadata": {
        "id": "r9HmyZIGd-oA",
        "colab_type": "code",
        "colab": {
          "base_uri": "https://localhost:8080/",
          "height": 35
        },
        "outputId": "5f822a3a-f78a-4161-d7bc-2a78089e5534"
      },
      "source": [
        "from google.colab import drive\n",
        "drive.mount('/content/drive')"
      ],
      "execution_count": null,
      "outputs": [
        {
          "output_type": "stream",
          "text": [
            "Drive already mounted at /content/drive; to attempt to forcibly remount, call drive.mount(\"/content/drive\", force_remount=True).\n"
          ],
          "name": "stdout"
        }
      ]
    },
    {
      "cell_type": "code",
      "metadata": {
        "id": "YwXFdnpe3cgx",
        "colab_type": "code",
        "colab": {}
      },
      "source": [
        "feature=extract_features(\"/content/drive/My Drive/try/dana.wav\", mfcc = True, chroma = True, mel = True, contrast= True ,tonnetz= True)"
      ],
      "execution_count": null,
      "outputs": []
    },
    {
      "cell_type": "code",
      "metadata": {
        "id": "LFsppKot7XDT",
        "colab_type": "code",
        "colab": {}
      },
      "source": [
        "v =[]\n",
        "v.append(feature)"
      ],
      "execution_count": null,
      "outputs": []
    },
    {
      "cell_type": "code",
      "metadata": {
        "id": "-xQGU60H71q6",
        "colab_type": "code",
        "colab": {}
      },
      "source": [
        "y_pred=classifier.predict(v)\n",
        "result=classifier.predict_proba(v)"
      ],
      "execution_count": null,
      "outputs": []
    },
    {
      "cell_type": "code",
      "metadata": {
        "id": "9xI8azpY75vj",
        "colab_type": "code",
        "colab": {
          "base_uri": "https://localhost:8080/",
          "height": 87
        },
        "outputId": "784fa71c-db86-41c5-d47c-dd095d26db52"
      },
      "source": [
        "print(y_pred)\n",
        "print('Probability: ', result)\n",
        "#print(class_to_idx['anger'])\n",
        "print(classifier.classes_)\n",
        "\n"
      ],
      "execution_count": null,
      "outputs": [
        {
          "output_type": "stream",
          "text": [
            "['happy']\n",
            "Probability:  [[3.62503013e-05 9.64387505e-04 1.96286626e-03 9.97036391e-01\n",
            "  8.12078626e-08 2.39359776e-08]]\n",
            "['anger' 'disgust' 'fear' 'happy' 'neutral' 'sad']\n"
          ],
          "name": "stdout"
        }
      ]
    },
    {
      "cell_type": "code",
      "metadata": {
        "id": "pM1Ws52xzINO",
        "colab_type": "code",
        "colab": {}
      },
      "source": [
        "import torch\n",
        "torch.save(classifier,\"/content/drive/My Drive/final project/saveModel/model1\")"
      ],
      "execution_count": null,
      "outputs": []
    }
  ]
}