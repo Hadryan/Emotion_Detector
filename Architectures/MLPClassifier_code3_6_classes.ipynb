{
  "nbformat": 4,
  "nbformat_minor": 0,
  "metadata": {
    "colab": {
      "name": "Copy of Copy of MLPClassifier-code2 - 6 classes- good .ipynb",
      "provenance": [],
      "collapsed_sections": []
    },
    "kernelspec": {
      "name": "python3",
      "display_name": "Python 3"
    },
    "accelerator": "GPU"
  },
  "cells": [
    {
      "cell_type": "code",
      "metadata": {
        "id": "T267CerGRSlr",
        "colab_type": "code",
        "colab": {
          "base_uri": "https://localhost:8080/",
          "height": 195
        },
        "outputId": "9562ad84-6170-432b-bd54-e68bfad77cf2"
      },
      "source": [
        "pip install conda"
      ],
      "execution_count": 1,
      "outputs": [
        {
          "output_type": "stream",
          "text": [
            "Requirement already satisfied: conda in /usr/local/lib/python3.6/dist-packages (4.3.16)\n",
            "Requirement already satisfied: pycosat>=0.6.1 in /usr/local/lib/python3.6/dist-packages (from conda) (0.6.3)\n",
            "Requirement already satisfied: ruamel.yaml>=0.11.14 in /usr/local/lib/python3.6/dist-packages (from conda) (0.16.10)\n",
            "Requirement already satisfied: requests>=2.12.4 in /usr/local/lib/python3.6/dist-packages (from conda) (2.23.0)\n",
            "Requirement already satisfied: ruamel.yaml.clib>=0.1.2; platform_python_implementation == \"CPython\" and python_version < \"3.9\" in /usr/local/lib/python3.6/dist-packages (from ruamel.yaml>=0.11.14->conda) (0.2.0)\n",
            "Requirement already satisfied: chardet<4,>=3.0.2 in /usr/local/lib/python3.6/dist-packages (from requests>=2.12.4->conda) (3.0.4)\n",
            "Requirement already satisfied: urllib3!=1.25.0,!=1.25.1,<1.26,>=1.21.1 in /usr/local/lib/python3.6/dist-packages (from requests>=2.12.4->conda) (1.24.3)\n",
            "Requirement already satisfied: idna<3,>=2.5 in /usr/local/lib/python3.6/dist-packages (from requests>=2.12.4->conda) (2.9)\n",
            "Requirement already satisfied: certifi>=2017.4.17 in /usr/local/lib/python3.6/dist-packages (from requests>=2.12.4->conda) (2020.6.20)\n"
          ],
          "name": "stdout"
        }
      ]
    },
    {
      "cell_type": "code",
      "metadata": {
        "id": "qFw_sW4DRbzK",
        "colab_type": "code",
        "colab": {
          "base_uri": "https://localhost:8080/",
          "height": 70
        },
        "outputId": "fdddc2c5-61d7-4017-f3a3-ffe3d19adf3e"
      },
      "source": [
        "pip install pysoundfile"
      ],
      "execution_count": 2,
      "outputs": [
        {
          "output_type": "stream",
          "text": [
            "Requirement already satisfied: pysoundfile in /usr/local/lib/python3.6/dist-packages (0.9.0.post1)\n",
            "Requirement already satisfied: cffi>=0.6 in /usr/local/lib/python3.6/dist-packages (from pysoundfile) (1.14.0)\n",
            "Requirement already satisfied: pycparser in /usr/local/lib/python3.6/dist-packages (from cffi>=0.6->pysoundfile) (2.20)\n"
          ],
          "name": "stdout"
        }
      ]
    },
    {
      "cell_type": "code",
      "metadata": {
        "id": "WG0uM8-FNM_f",
        "colab_type": "code",
        "colab": {}
      },
      "source": [
        "import librosa    #Python Library for analysing audio\n",
        "import soundfile\n",
        "import os, glob, pickle\n",
        "import numpy as np"
      ],
      "execution_count": 3,
      "outputs": []
    },
    {
      "cell_type": "code",
      "metadata": {
        "id": "TD1SQLtw-rRQ",
        "colab_type": "code",
        "colab": {}
      },
      "source": [
        "import matplotlib.pyplot as plt\n",
        "import torch\n",
        "import torch.nn.functional as functional\n",
        "import torch.nn as nn\n",
        "import torch.optim as optim\n",
        "import matplotlib.pyplot as plt\n",
        "import os\n",
        "import os.path\n",
        "import pdb\n",
        "\n",
        "#%%\n",
        "#%%\n",
        "# --------------------------------------------------------------------------------------------- #\n",
        "                                        # Data Section\n",
        "                        # Prepare all the data for training and prediction\n",
        "# --------------------------------------------------------------------------------------------- #\n",
        "\n",
        "\n",
        "# -------------------------------------------- #\n",
        "            # Generate training set\n",
        "# -------------------------------------------- #\n",
        "AUDIO_EXTENSIONS = [\n",
        "    '.wav', '.WAV',\n",
        "]\n",
        "\n",
        "def is_audio_file(filename):\n",
        "    return any(filename.endswith(extension) for extension in AUDIO_EXTENSIONS)\n",
        "\n",
        "def find_classes(dir):\n",
        "    classes = [d for d in os.listdir(dir) if os.path.isdir(os.path.join(dir, d))]\n",
        "    classes.sort()\n",
        "    class_to_idx = {classes[i]: i for i in range(len(classes))}\n",
        "    return classes, class_to_idx\n",
        "\n",
        "def make_dataset(dir, class_to_idx):\n",
        "    spects = []\n",
        "    dir = os.path.expanduser(dir)\n",
        "    for target in sorted(os.listdir(dir)):\n",
        "        d = os.path.join(dir, target)\n",
        "        if not os.path.isdir(d):\n",
        "            continue\n",
        "\n",
        "        for root, _, fnames in sorted(os.walk(d)):\n",
        "            for fname in sorted(fnames):\n",
        "                if is_audio_file(fname):\n",
        "                    path = os.path.join(root, fname)\n",
        "                    item = (path, class_to_idx[target])\n",
        "                    spects.append(item)\n",
        "    return spects"
      ],
      "execution_count": 4,
      "outputs": []
    },
    {
      "cell_type": "code",
      "metadata": {
        "id": "jNk0MIfFRv1c",
        "colab_type": "code",
        "colab": {}
      },
      "source": [
        "def extract_features(file_name, mfcc, chroma, mel, contrast,tonnetz):   \n",
        "    with soundfile.SoundFile(file_name) as sound_file:\n",
        "        X = sound_file.read(dtype = \"float32\")\n",
        "        sample_rate = sound_file.samplerate\n",
        " \n",
        "        if chroma:\n",
        "            stft = np.abs(librosa.stft(X))\n",
        "            result = np.array([])\n",
        "        if mfcc:\n",
        "            mfccs = np.mean(librosa.feature.mfcc(y = X, sr = sample_rate, n_mfcc = 40).T, axis = 0)\n",
        "            result = np.hstack((result, mfccs))\n",
        "        if chroma:\n",
        "            chroma = np.mean(librosa.feature.chroma_stft(S=stft, sr=sample_rate).T, axis = 0)\n",
        "            result = np.hstack((result, chroma))\n",
        "        if mel:\n",
        "            mel = np.mean(librosa.feature.melspectrogram(X, sr = sample_rate).T, axis = 0)\n",
        "            result = np.hstack((result, mel))\n",
        "        if contrast:\n",
        "            contrast = np.mean(librosa.feature.spectral_contrast(S=stft, sr=sample_rate).T,axis=0)\n",
        "            result = np.hstack((result, contrast))\n",
        "        if tonnetz:\n",
        "            tonnetz = np.mean(librosa.feature.tonnetz(y=librosa.effects.harmonic(X), sr=sample_rate).T,axis=0)\n",
        "            result = np.hstack((result, tonnetz))\n",
        "    \n",
        "    return result"
      ],
      "execution_count": 5,
      "outputs": []
    },
    {
      "cell_type": "code",
      "metadata": {
        "id": "aEB8P_D3TDbU",
        "colab_type": "code",
        "colab": {
          "base_uri": "https://localhost:8080/",
          "height": 34
        },
        "outputId": "b9bad915-b9e3-42b5-c963-e60b30d68997"
      },
      "source": [
        "from google.colab import drive\n",
        "drive.mount('/content/drive')\n"
      ],
      "execution_count": 6,
      "outputs": [
        {
          "output_type": "stream",
          "text": [
            "Drive already mounted at /content/drive; to attempt to forcibly remount, call drive.mount(\"/content/drive\", force_remount=True).\n"
          ],
          "name": "stdout"
        }
      ]
    },
    {
      "cell_type": "code",
      "metadata": {
        "id": "fzErZzgm_Voq",
        "colab_type": "code",
        "colab": {}
      },
      "source": [
        "#Get the directories which represent the classes\n",
        "# dirPath = \"/content/drive/My Drive/4\"\n",
        "# classes,class_to_idx = find_classes(dirPath)\n",
        "\n",
        "# spects = make_dataset(dirPath,class_to_idx)\n",
        "# print(spects)"
      ],
      "execution_count": 7,
      "outputs": []
    },
    {
      "cell_type": "code",
      "metadata": {
        "id": "-yaZOmuER6GR",
        "colab_type": "code",
        "colab": {}
      },
      "source": [
        "from sklearn.model_selection import train_test_split\n",
        "import csv\n",
        "\n",
        "\n",
        "def load_data(test_size=0.2):\n",
        "    X, y = [], []\n",
        "#   # if csv :#:\n",
        "#     for file in spects:\n",
        "#         file_name = file[0]\n",
        "#         emotion = file[1]\n",
        "#         feature=extract_features(file_name, mfcc = True, chroma = True, mel = True, contrast= True ,tonnetz= True)\n",
        "#         X.append(feature)\n",
        "#         y.append(emotion)\n",
        "\n",
        "    #:\n",
        " \n",
        "    with open('/content/drive/My Drive/final project/f_anger+happy.csv') as csvDataFile:\n",
        "       csvReader = csv.reader(csvDataFile,quoting=csv.QUOTE_NONNUMERIC)\n",
        "       for row in csvReader:\n",
        "         X.append(row)\n",
        "\n",
        "    with open('/content/drive/My Drive/final project/labels_anger+happy.csv') as csvDataFile:\n",
        "       csvReader = csv.reader(csvDataFile)\n",
        "       for row in csvReader:\n",
        "         y.append(row)\n",
        "    \n",
        "    with open('/content/drive/My Drive/final project/f_sad.csv') as csvDataFile:\n",
        "       csvReader = csv.reader(csvDataFile,quoting=csv.QUOTE_NONNUMERIC)\n",
        "       for row in csvReader:\n",
        "         X.append(row)\n",
        "\n",
        "    with open('/content/drive/My Drive/final project/labels_sad.csv') as csvDataFile:\n",
        "       csvReader = csv.reader(csvDataFile)\n",
        "       for row in csvReader:\n",
        "         y.append(row)\n",
        "    \n",
        "    with open('/content/drive/My Drive/final project/f_neutral.csv') as csvDataFile:\n",
        "       csvReader = csv.reader(csvDataFile,quoting=csv.QUOTE_NONNUMERIC)\n",
        "       for row in csvReader:\n",
        "         X.append(row)\n",
        "\n",
        "    with open('/content/drive/My Drive/final project/labels_neutral.csv') as csvDataFile:\n",
        "       csvReader = csv.reader(csvDataFile)\n",
        "       for row in csvReader:\n",
        "         y.append(row)\n",
        "\n",
        "    with open('/content/drive/My Drive/final project/f_fear.csv') as csvDataFile:\n",
        "       csvReader = csv.reader(csvDataFile,quoting=csv.QUOTE_NONNUMERIC)\n",
        "       for row in csvReader:\n",
        "         X.append(row)\n",
        "\n",
        "    with open('/content/drive/My Drive/final project/labels_fear.csv') as csvDataFile:\n",
        "       csvReader = csv.reader(csvDataFile)\n",
        "       for row in csvReader:\n",
        "         y.append(row)\n",
        "         \n",
        "    with open('/content/drive/My Drive/final project/f_disgust.csv') as csvDataFile:\n",
        "       csvReader = csv.reader(csvDataFile,quoting=csv.QUOTE_NONNUMERIC)\n",
        "       for row in csvReader:\n",
        "         X.append(row)\n",
        "\n",
        "    with open('/content/drive/My Drive/final project/labels_disgust.csv') as csvDataFile:\n",
        "       csvReader = csv.reader(csvDataFile)\n",
        "       for row in csvReader:\n",
        "         y.append(row)\n",
        "\n",
        "\n",
        "    \n",
        "    return train_test_split(np.array(X), y, test_size = test_size, random_state = 9)"
      ],
      "execution_count": 8,
      "outputs": []
    },
    {
      "cell_type": "code",
      "metadata": {
        "id": "WGpaAqYLTxUV",
        "colab_type": "code",
        "colab": {}
      },
      "source": [
        "X_train, X_test, y_train, y_test = load_data(test_size = 0.25)\n"
      ],
      "execution_count": 9,
      "outputs": []
    },
    {
      "cell_type": "code",
      "metadata": {
        "id": "2jUrTazrRlr3",
        "colab_type": "code",
        "colab": {}
      },
      "source": [
        "# import pandas as pd\n",
        "# f = pd.DataFrame(np.array(X))\n",
        "# labels = pd.DataFrame(y)"
      ],
      "execution_count": 10,
      "outputs": []
    },
    {
      "cell_type": "code",
      "metadata": {
        "id": "tpK0xQi6Rog-",
        "colab_type": "code",
        "colab": {}
      },
      "source": [
        "# import pandas as pd\n",
        "# from pydrive.auth import GoogleAuth\n",
        "# from pydrive.drive import GoogleDrive\n",
        "# from google.colab import auth\n",
        "# from oauth2client.client import GoogleCredentials\n",
        "# auth.authenticate_user()\n",
        "# gauth = GoogleAuth()\n",
        "# gauth.credentials = GoogleCredentials.get_application_default()\n",
        "# drive = GoogleDrive(gauth)"
      ],
      "execution_count": 11,
      "outputs": []
    },
    {
      "cell_type": "code",
      "metadata": {
        "id": "jD67-u1aRsJy",
        "colab_type": "code",
        "colab": {}
      },
      "source": [
        "# f.to_csv('f_happy.csv')\n",
        "# uploaded = drive.CreateFile({'title': 'f_happy.csv'})\n",
        "# uploaded.SetContentFile('f_happy.csv')\n",
        "# uploaded.Upload()\n",
        "\n",
        "# labels.to_csv('labels_happy.csv')\n",
        "# uploaded = drive.CreateFile({'title': 'labels_happy.csv'})\n",
        "# uploaded.SetContentFile('labels_happy.csv')\n",
        "# uploaded.Upload()"
      ],
      "execution_count": 12,
      "outputs": []
    },
    {
      "cell_type": "code",
      "metadata": {
        "id": "XM0pvsCiUlKj",
        "colab_type": "code",
        "colab": {}
      },
      "source": [
        "# print(X_train.shape)\n",
        "# print(X_train)\n",
        "# print(X_test.shape)\n",
        "# print(len(y_train))\n"
      ],
      "execution_count": 13,
      "outputs": []
    },
    {
      "cell_type": "code",
      "metadata": {
        "id": "rut8s97WUlm5",
        "colab_type": "code",
        "colab": {
          "base_uri": "https://localhost:8080/",
          "height": 34
        },
        "outputId": "c4e38799-5751-4186-b872-50ab6d25515d"
      },
      "source": [
        "print(f'Features extracted: {X_train.shape[1]}')"
      ],
      "execution_count": 14,
      "outputs": [
        {
          "output_type": "stream",
          "text": [
            "Features extracted: 193\n"
          ],
          "name": "stdout"
        }
      ]
    },
    {
      "cell_type": "code",
      "metadata": {
        "id": "ZZQOx1SuUrdM",
        "colab_type": "code",
        "colab": {}
      },
      "source": [
        "from sklearn.neural_network import MLPClassifier\n",
        "classifier = MLPClassifier(alpha = 0.01, batch_size = 256, epsilon = 1e-08, hidden_layer_sizes = (300,), \n",
        "                    learning_rate='adaptive', max_iter = 500)"
      ],
      "execution_count": 15,
      "outputs": []
    },
    {
      "cell_type": "code",
      "metadata": {
        "id": "bBfKSQOrUyaP",
        "colab_type": "code",
        "colab": {
          "base_uri": "https://localhost:8080/",
          "height": 157
        },
        "outputId": "626ff380-f3cd-4566-ee39-0761faea2224"
      },
      "source": [
        "classifier.fit(X_train,np.ravel(y_train))"
      ],
      "execution_count": 16,
      "outputs": [
        {
          "output_type": "execute_result",
          "data": {
            "text/plain": [
              "MLPClassifier(activation='relu', alpha=0.01, batch_size=256, beta_1=0.9,\n",
              "              beta_2=0.999, early_stopping=False, epsilon=1e-08,\n",
              "              hidden_layer_sizes=(300,), learning_rate='adaptive',\n",
              "              learning_rate_init=0.001, max_fun=15000, max_iter=500,\n",
              "              momentum=0.9, n_iter_no_change=10, nesterovs_momentum=True,\n",
              "              power_t=0.5, random_state=None, shuffle=True, solver='adam',\n",
              "              tol=0.0001, validation_fraction=0.1, verbose=False,\n",
              "              warm_start=False)"
            ]
          },
          "metadata": {
            "tags": []
          },
          "execution_count": 16
        }
      ]
    },
    {
      "cell_type": "code",
      "metadata": {
        "id": "Gqg63BjhVhGQ",
        "colab_type": "code",
        "colab": {}
      },
      "source": [
        "y_pred=classifier.predict(X_test)"
      ],
      "execution_count": 17,
      "outputs": []
    },
    {
      "cell_type": "code",
      "metadata": {
        "id": "hStB2OdDyItj",
        "colab_type": "code",
        "colab": {}
      },
      "source": [
        "# print(X_train.shape)\n",
        "# print(X_test.shape)\n",
        "# print(y_pred.shape)\n",
        "# print(y_test)"
      ],
      "execution_count": 18,
      "outputs": []
    },
    {
      "cell_type": "code",
      "metadata": {
        "id": "RupBMI7gU43a",
        "colab_type": "code",
        "colab": {}
      },
      "source": [
        "from sklearn.metrics import accuracy_score\n",
        "accuracy = accuracy_score(y_true = y_test, y_pred = y_pred)"
      ],
      "execution_count": 19,
      "outputs": []
    },
    {
      "cell_type": "code",
      "metadata": {
        "id": "ekWsKcmgU6li",
        "colab_type": "code",
        "colab": {
          "base_uri": "https://localhost:8080/",
          "height": 34
        },
        "outputId": "514f65ff-9728-4008-f3c6-e5fcf6f01d53"
      },
      "source": [
        "print(\"Accuracy: {:.2f}%\".format(accuracy*100))"
      ],
      "execution_count": 20,
      "outputs": [
        {
          "output_type": "stream",
          "text": [
            "Accuracy: 61.62%\n"
          ],
          "name": "stdout"
        }
      ]
    },
    {
      "cell_type": "code",
      "metadata": {
        "id": "_GQFga9-fE7m",
        "colab_type": "code",
        "colab": {}
      },
      "source": [
        "from sklearn.metrics import classification_report\n",
        "from sklearn.datasets import make_classification\n",
        "from sklearn.metrics import confusion_matrix"
      ],
      "execution_count": 21,
      "outputs": []
    },
    {
      "cell_type": "code",
      "metadata": {
        "id": "eeSG0qGGdp2K",
        "colab_type": "code",
        "colab": {
          "base_uri": "https://localhost:8080/",
          "height": 245
        },
        "outputId": "e01aabce-c51d-4008-d69f-2b9d603e9e1e"
      },
      "source": [
        "classes = ('anger', 'happy', 'neutral', 'sad','fear','disgust')\n",
        "\n",
        "target_names = classes\n",
        "print(classification_report(y_test, y_pred, target_names=target_names))\n",
        "\n"
      ],
      "execution_count": 22,
      "outputs": [
        {
          "output_type": "stream",
          "text": [
            "              precision    recall  f1-score   support\n",
            "\n",
            "       anger       0.72      0.72      0.72       438\n",
            "       happy       0.57      0.59      0.58       442\n",
            "     neutral       0.50      0.60      0.54       380\n",
            "         sad       0.66      0.51      0.57       439\n",
            "        fear       0.63      0.63      0.63       376\n",
            "     disgust       0.65      0.65      0.65       421\n",
            "\n",
            "    accuracy                           0.62      2496\n",
            "   macro avg       0.62      0.62      0.62      2496\n",
            "weighted avg       0.62      0.62      0.62      2496\n",
            "\n"
          ],
          "name": "stdout"
        }
      ]
    },
    {
      "cell_type": "code",
      "metadata": {
        "id": "L79BVtUEjYYO",
        "colab_type": "code",
        "colab": {
          "base_uri": "https://localhost:8080/",
          "height": 596
        },
        "outputId": "5ed11862-ef95-4711-f9b5-b7df27daef29"
      },
      "source": [
        "\n",
        "# Plot non-normalized confusion matrix\n",
        "import seaborn as sn\n",
        "import pandas as pd\n",
        "from pandas.testing import assert_frame_equal\n",
        "\n",
        "#!pip install matplotlib==3.1.0 # Solves the confusion matrix gets cut\n",
        "cm = confusion_matrix(y_test, y_pred, labels=[\"anger\", \"happy\", \"neutral\", \"sad\",\"fear\",\"disgust\"])\n",
        "print(cm)\n",
        "df_cm = pd.DataFrame(cm, range(len(cm)),\n",
        "                  range(len(cm)))\n",
        "\n",
        "plt.figure(figsize=(10,7))\n",
        "sn.set(font_scale=1.4)#for label size\n",
        "sn.heatmap(df_cm, annot=True,annot_kws={\"size\": 14})# font size\n",
        "\n",
        "plt.show()"
      ],
      "execution_count": 23,
      "outputs": [
        {
          "output_type": "stream",
          "text": [
            "[[317  56   6   2  23  34]\n",
            " [ 65 223  29  18  58  46]\n",
            " [  7  12 238  50  27  42]\n",
            " [  0   3  36 272  70  40]\n",
            " [ 27  28  16  43 228  38]\n",
            " [ 25  15  55  36  51 260]]\n"
          ],
          "name": "stdout"
        },
        {
          "output_type": "stream",
          "text": [
            "/usr/local/lib/python3.6/dist-packages/statsmodels/tools/_testing.py:19: FutureWarning: pandas.util.testing is deprecated. Use the functions in the public API at pandas.testing instead.\n",
            "  import pandas.util.testing as tm\n"
          ],
          "name": "stderr"
        },
        {
          "output_type": "display_data",
          "data": {
            "image/png": "[encoded data removed]",
            "text/plain": [
              "<Figure size 720x504 with 2 Axes>"
            ]
          },
          "metadata": {
            "tags": [],
            "needs_background": "light"
          }
        }
      ]
    },
    {
      "cell_type": "code",
      "metadata": {
        "id": "r9HmyZIGd-oA",
        "colab_type": "code",
        "colab": {
          "base_uri": "https://localhost:8080/",
          "height": 34
        },
        "outputId": "57344eef-2f0c-4096-fc08-7b316ca34905"
      },
      "source": [
        "from google.colab import drive\n",
        "drive.mount('/content/drive')"
      ],
      "execution_count": 24,
      "outputs": [
        {
          "output_type": "stream",
          "text": [
            "Drive already mounted at /content/drive; to attempt to forcibly remount, call drive.mount(\"/content/drive\", force_remount=True).\n"
          ],
          "name": "stdout"
        }
      ]
    },
    {
      "cell_type": "code",
      "metadata": {
        "id": "YwXFdnpe3cgx",
        "colab_type": "code",
        "colab": {}
      },
      "source": [
        "feature=extract_features(\"/content/drive/My Drive/try/dana.wav\", mfcc = True, chroma = True, mel = True, contrast= True ,tonnetz= True)"
      ],
      "execution_count": 25,
      "outputs": []
    },
    {
      "cell_type": "code",
      "metadata": {
        "id": "LFsppKot7XDT",
        "colab_type": "code",
        "colab": {}
      },
      "source": [
        "v =[]\n",
        "v.append(feature)"
      ],
      "execution_count": 26,
      "outputs": []
    },
    {
      "cell_type": "code",
      "metadata": {
        "id": "-xQGU60H71q6",
        "colab_type": "code",
        "colab": {}
      },
      "source": [
        "y_pred=classifier.predict(v)\n",
        "result=classifier.predict_proba(v)"
      ],
      "execution_count": 27,
      "outputs": []
    },
    {
      "cell_type": "code",
      "metadata": {
        "id": "9xI8azpY75vj",
        "colab_type": "code",
        "colab": {
          "base_uri": "https://localhost:8080/",
          "height": 87
        },
        "outputId": "81219d78-eb68-4c71-e904-9b87226218df"
      },
      "source": [
        "print(y_pred)\n",
        "print('Probability: ', result)\n",
        "#print(class_to_idx['anger'])\n",
        "print(classifier.classes_)\n",
        "\n"
      ],
      "execution_count": 28,
      "outputs": [
        {
          "output_type": "stream",
          "text": [
            "['happy']\n",
            "Probability:  [[6.46898699e-05 1.41100279e-03 2.11675436e-04 9.98312297e-01\n",
            "  4.43462405e-09 3.30582368e-07]]\n",
            "['anger' 'disgust' 'fear' 'happy' 'neutral' 'sad']\n"
          ],
          "name": "stdout"
        }
      ]
    },
    {
      "cell_type": "code",
      "metadata": {
        "id": "pM1Ws52xzINO",
        "colab_type": "code",
        "colab": {}
      },
      "source": [
        "import torch\n",
        "torch.save(classifier,\"/content/drive/My Drive/final project/saveModel/model1\")"
      ],
      "execution_count": 29,
      "outputs": []
    }
  ]
}