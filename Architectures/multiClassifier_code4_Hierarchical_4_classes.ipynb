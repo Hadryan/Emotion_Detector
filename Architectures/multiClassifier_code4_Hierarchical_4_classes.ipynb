{
  "nbformat": 4,
  "nbformat_minor": 0,
  "metadata": {
    "colab": {
      "name": "multiClassifier-Hierarchical new- 4 classes-good .ipynb",
      "provenance": [],
      "collapsed_sections": []
    },
    "kernelspec": {
      "name": "python3",
      "display_name": "Python 3"
    },
    "accelerator": "GPU"
  },
  "cells": [
    {
      "cell_type": "code",
      "metadata": {
        "id": "T267CerGRSlr",
        "colab_type": "code",
        "colab": {
          "base_uri": "https://localhost:8080/",
          "height": 193
        },
        "outputId": "266ba245-68e6-4af4-c6ef-5acfb0fad2f5"
      },
      "source": [
        "pip install conda"
      ],
      "execution_count": 1,
      "outputs": [
        {
          "output_type": "stream",
          "text": [
            "Requirement already satisfied: conda in /usr/local/lib/python3.6/dist-packages (4.3.16)\n",
            "Requirement already satisfied: requests>=2.12.4 in /usr/local/lib/python3.6/dist-packages (from conda) (2.23.0)\n",
            "Requirement already satisfied: pycosat>=0.6.1 in /usr/local/lib/python3.6/dist-packages (from conda) (0.6.3)\n",
            "Requirement already satisfied: ruamel.yaml>=0.11.14 in /usr/local/lib/python3.6/dist-packages (from conda) (0.16.10)\n",
            "Requirement already satisfied: urllib3!=1.25.0,!=1.25.1,<1.26,>=1.21.1 in /usr/local/lib/python3.6/dist-packages (from requests>=2.12.4->conda) (1.24.3)\n",
            "Requirement already satisfied: certifi>=2017.4.17 in /usr/local/lib/python3.6/dist-packages (from requests>=2.12.4->conda) (2020.6.20)\n",
            "Requirement already satisfied: chardet<4,>=3.0.2 in /usr/local/lib/python3.6/dist-packages (from requests>=2.12.4->conda) (3.0.4)\n",
            "Requirement already satisfied: idna<3,>=2.5 in /usr/local/lib/python3.6/dist-packages (from requests>=2.12.4->conda) (2.9)\n",
            "Requirement already satisfied: ruamel.yaml.clib>=0.1.2; platform_python_implementation == \"CPython\" and python_version < \"3.9\" in /usr/local/lib/python3.6/dist-packages (from ruamel.yaml>=0.11.14->conda) (0.2.0)\n"
          ],
          "name": "stdout"
        }
      ]
    },
    {
      "cell_type": "code",
      "metadata": {
        "id": "qFw_sW4DRbzK",
        "colab_type": "code",
        "colab": {
          "base_uri": "https://localhost:8080/",
          "height": 69
        },
        "outputId": "c7f724b8-d165-4655-efb1-5e58d313637b"
      },
      "source": [
        "pip install pysoundfile"
      ],
      "execution_count": 2,
      "outputs": [
        {
          "output_type": "stream",
          "text": [
            "Requirement already satisfied: pysoundfile in /usr/local/lib/python3.6/dist-packages (0.9.0.post1)\n",
            "Requirement already satisfied: cffi>=0.6 in /usr/local/lib/python3.6/dist-packages (from pysoundfile) (1.14.0)\n",
            "Requirement already satisfied: pycparser in /usr/local/lib/python3.6/dist-packages (from cffi>=0.6->pysoundfile) (2.20)\n"
          ],
          "name": "stdout"
        }
      ]
    },
    {
      "cell_type": "code",
      "metadata": {
        "id": "WG0uM8-FNM_f",
        "colab_type": "code",
        "colab": {}
      },
      "source": [
        "import librosa    #Python Library for analysing audio\n",
        "import soundfile\n",
        "import os, glob, pickle\n",
        "import numpy as np"
      ],
      "execution_count": 3,
      "outputs": []
    },
    {
      "cell_type": "code",
      "metadata": {
        "id": "TD1SQLtw-rRQ",
        "colab_type": "code",
        "colab": {}
      },
      "source": [
        "import matplotlib.pyplot as plt\n",
        "import torch\n",
        "import torch.nn.functional as functional\n",
        "import torch.nn as nn\n",
        "import torch.optim as optim\n",
        "import matplotlib.pyplot as plt\n",
        "import os\n",
        "import os.path\n",
        "import pdb\n",
        "from sklearn.neural_network import MLPClassifier\n",
        "from sklearn.metrics import accuracy_score\n",
        "\n",
        "\n",
        "##########################################\n",
        "\n",
        "AUDIO_EXTENSIONS = [\n",
        "    '.wav', '.WAV',\n",
        "]\n",
        "\n",
        "def is_audio_file(filename):\n",
        "    return any(filename.endswith(extension) for extension in AUDIO_EXTENSIONS)\n",
        "\n",
        "def find_classes(dir):\n",
        "    classes = [d for d in os.listdir(dir) if os.path.isdir(os.path.join(dir, d))]\n",
        "    classes.sort()\n",
        "    class_to_idx = {classes[i]: i for i in range(len(classes))}\n",
        "    return classes, class_to_idx\n",
        "\n",
        "def make_dataset(dir, class_to_idx):\n",
        "    spects = []\n",
        "    dir = os.path.expanduser(dir)\n",
        "    for target in sorted(os.listdir(dir)):\n",
        "        d = os.path.join(dir, target)\n",
        "        if not os.path.isdir(d):\n",
        "            continue\n",
        "\n",
        "        for root, _, fnames in sorted(os.walk(d)):\n",
        "            for fname in sorted(fnames):\n",
        "                if is_audio_file(fname):\n",
        "                    path = os.path.join(root, fname)\n",
        "                    item = (path, class_to_idx[target])\n",
        "                    spects.append(item)\n",
        "    return spects"
      ],
      "execution_count": 4,
      "outputs": []
    },
    {
      "cell_type": "code",
      "metadata": {
        "id": "jNk0MIfFRv1c",
        "colab_type": "code",
        "colab": {}
      },
      "source": [
        "def extract_features(file_name, mfcc, chroma, mel, contrast,tonnetz):    \n",
        "    with soundfile.SoundFile(file_name) as sound_file:\n",
        "        X = sound_file.read(dtype = \"float32\")\n",
        "        sample_rate = sound_file.samplerate\n",
        " \n",
        "        if chroma:\n",
        "            stft = np.abs(librosa.stft(X))\n",
        "            result = np.array([])\n",
        "        if mfcc:\n",
        "            mfccs = np.mean(librosa.feature.mfcc(y = X, sr = sample_rate, n_mfcc = 40).T, axis = 0)\n",
        "            result = np.hstack((result, mfccs))\n",
        "        if chroma:\n",
        "            chroma = np.mean(librosa.feature.chroma_stft(S=stft, sr=sample_rate).T, axis = 0)\n",
        "            result = np.hstack((result, chroma))\n",
        "        if mel:\n",
        "            mel = np.mean(librosa.feature.melspectrogram(X, sr = sample_rate).T, axis = 0)\n",
        "            result = np.hstack((result, mel))\n",
        "        if contrast:\n",
        "            contrast = np.mean(librosa.feature.spectral_contrast(S=stft, sr=sample_rate).T,axis=0)\n",
        "            result = np.hstack((result, contrast))\n",
        "        if tonnetz:\n",
        "            tonnetz = np.mean(librosa.feature.tonnetz(y=librosa.effects.harmonic(X), sr=sample_rate).T,axis=0)\n",
        "            result = np.hstack((result, tonnetz))\n",
        "    \n",
        "    return result"
      ],
      "execution_count": 5,
      "outputs": []
    },
    {
      "cell_type": "code",
      "metadata": {
        "id": "aEB8P_D3TDbU",
        "colab_type": "code",
        "colab": {
          "base_uri": "https://localhost:8080/",
          "height": 35
        },
        "outputId": "6f075d63-10d2-4509-e097-c1ae99d823e4"
      },
      "source": [
        "from google.colab import drive\n",
        "drive.mount('/content/drive')\n"
      ],
      "execution_count": 6,
      "outputs": [
        {
          "output_type": "stream",
          "text": [
            "Drive already mounted at /content/drive; to attempt to forcibly remount, call drive.mount(\"/content/drive\", force_remount=True).\n"
          ],
          "name": "stdout"
        }
      ]
    },
    {
      "cell_type": "code",
      "metadata": {
        "id": "fzErZzgm_Voq",
        "colab_type": "code",
        "colab": {}
      },
      "source": [
        "# Get the directories which represent the classes\n",
        "# dirPath = \"/content/drive/My Drive/AllData\"\n",
        "# classes,class_to_idx = find_classes(dirPath)\n",
        "\n",
        "# spects = make_dataset(dirPath,class_to_idx)\n",
        "#print(spects)"
      ],
      "execution_count": 7,
      "outputs": []
    },
    {
      "cell_type": "code",
      "metadata": {
        "id": "-yaZOmuER6GR",
        "colab_type": "code",
        "colab": {}
      },
      "source": [
        "from sklearn.model_selection import train_test_split\n",
        "import csv\n",
        "\n",
        "def load_data(test_size, happy, anger, neural ,sad):\n",
        "  X, y = [], []\n",
        "  y_class=['happy', 'anger','neural','sad']\n",
        "  print(y_class)\n",
        "    #if csv :#:\n",
        "    # for file in spects:\n",
        "    #     file_name = file[0]\n",
        "    #     emotion = file[1]\n",
        "    #     feature=extract_features(file_name, mfcc = True, chroma = True, mel = True, contrast= True ,tonnetz= True, zeros= True)\n",
        "    #     X.append(feature)\n",
        "    #     y.append(emotion)\n",
        "\n",
        "  if happy:\n",
        "    with open('/content/drive/My Drive/final project/f_happy.csv') as csvDataFile:\n",
        "       csvReader = csv.reader(csvDataFile,quoting=csv.QUOTE_NONNUMERIC)\n",
        "       for row in csvReader:\n",
        "         X.append(row)\n",
        "\n",
        "    with open('/content/drive/My Drive/final project/labels_happy.csv') as csvDataFile:\n",
        "       csvReader = csv.reader(csvDataFile)\n",
        "       for row in csvReader:\n",
        "          y.append(row)\n",
        "  \n",
        "  if anger:\n",
        "    with open('/content/drive/My Drive/final project/f_anger.csv') as csvDataFile:\n",
        "       csvReader = csv.reader(csvDataFile,quoting=csv.QUOTE_NONNUMERIC)\n",
        "       for row in csvReader:\n",
        "         X.append(row)\n",
        "\n",
        "    with open('/content/drive/My Drive/final project/labels_anger.csv') as csvDataFile:\n",
        "       csvReader = csv.reader(csvDataFile)\n",
        "       for row in csvReader:\n",
        "           y.append(row)\n",
        "\n",
        "  if sad:  \n",
        "    with open('/content/drive/My Drive/final project/f_sad.csv') as csvDataFile:\n",
        "       csvReader = csv.reader(csvDataFile,quoting=csv.QUOTE_NONNUMERIC)\n",
        "       for row in csvReader:\n",
        "         X.append(row)\n",
        "\n",
        "    with open('/content/drive/My Drive/final project/labels_sad.csv') as csvDataFile:\n",
        "       csvReader = csv.reader(csvDataFile)\n",
        "       for row in csvReader:\n",
        "           y.append(row)\n",
        "\n",
        "  if neural:  \n",
        "    with open('/content/drive/My Drive/final project/f_neutral.csv') as csvDataFile:\n",
        "       csvReader = csv.reader(csvDataFile,quoting=csv.QUOTE_NONNUMERIC)\n",
        "       for row in csvReader:\n",
        "         X.append(row)\n",
        "\n",
        "    with open('/content/drive/My Drive/final project/labels_neutral.csv') as csvDataFile:\n",
        "       csvReader = csv.reader(csvDataFile)\n",
        "       for row in csvReader:\n",
        "           y.append(row)\n",
        "\n",
        "  return train_test_split(np.array(X), y, test_size = test_size, random_state = 9)"
      ],
      "execution_count": 8,
      "outputs": []
    },
    {
      "cell_type": "code",
      "metadata": {
        "id": "dqr6N4iDIAj6",
        "colab_type": "code",
        "colab": {
          "base_uri": "https://localhost:8080/",
          "height": 107
        },
        "outputId": "2c103ceb-4fbb-4b04-ee3f-766ad826b988"
      },
      "source": [
        "##Classifiers are trained to be used below :\n",
        "\n",
        "# 1. clasiffier between happy and anger\n",
        "\n",
        "X_train_1, X_test_1, y_train_1, y_test_1 = load_data(test_size = 0.25, happy=True, anger=True, neural=False ,sad=False)\n",
        "\n",
        "classifier1 = MLPClassifier(alpha = 0.01, batch_size = 256, epsilon = 1e-08, hidden_layer_sizes = (300,), \n",
        "                    learning_rate='adaptive', max_iter = 500)\n",
        "classifier1.fit(X_train_1, y_train_1)\n",
        "y_pred_1=classifier1.predict(X_test_1)\n",
        "\n",
        "accuracy = accuracy_score(y_true = y_test_1, y_pred = y_pred_1)\n",
        "print(\"Accuracy: {:.2f}%\".format(accuracy*100))"
      ],
      "execution_count": 9,
      "outputs": [
        {
          "output_type": "stream",
          "text": [
            "['happy', 'anger', 'neural', 'sad']\n"
          ],
          "name": "stdout"
        },
        {
          "output_type": "stream",
          "text": [
            "/usr/local/lib/python3.6/dist-packages/sklearn/neural_network/_multilayer_perceptron.py:934: DataConversionWarning: A column-vector y was passed when a 1d array was expected. Please change the shape of y to (n_samples, ), for example using ravel().\n",
            "  y = column_or_1d(y, warn=True)\n"
          ],
          "name": "stderr"
        },
        {
          "output_type": "stream",
          "text": [
            "Accuracy: 78.09%\n"
          ],
          "name": "stdout"
        }
      ]
    },
    {
      "cell_type": "code",
      "metadata": {
        "id": "cT4XFdh3ITwT",
        "colab_type": "code",
        "colab": {
          "base_uri": "https://localhost:8080/",
          "height": 107
        },
        "outputId": "4f5a51a8-5d24-4029-e853-96390e1f0646"
      },
      "source": [
        "# 2. clasiffier between neutral & sad\n",
        "X_train_2, X_test_2, y_train_2, y_test_2 = load_data(test_size = 0.25, happy=False, anger=False, neural=True ,sad=True)\n",
        "\n",
        "classifier2 = MLPClassifier(alpha = 0.01, batch_size = 256, epsilon = 1e-08, hidden_layer_sizes = (300,), \n",
        "                    learning_rate='adaptive', max_iter = 500)\n",
        "classifier2.fit(X_train_2, y_train_2)\n",
        "y_pred_2=classifier2.predict(X_test_2)\n",
        "\n",
        "accuracy = accuracy_score(y_true = y_test_2, y_pred = y_pred_2)\n",
        "print(\"Accuracy: {:.2f}%\".format(accuracy*100))"
      ],
      "execution_count": 10,
      "outputs": [
        {
          "output_type": "stream",
          "text": [
            "['happy', 'anger', 'neural', 'sad']\n"
          ],
          "name": "stdout"
        },
        {
          "output_type": "stream",
          "text": [
            "/usr/local/lib/python3.6/dist-packages/sklearn/neural_network/_multilayer_perceptron.py:934: DataConversionWarning: A column-vector y was passed when a 1d array was expected. Please change the shape of y to (n_samples, ), for example using ravel().\n",
            "  y = column_or_1d(y, warn=True)\n"
          ],
          "name": "stderr"
        },
        {
          "output_type": "stream",
          "text": [
            "Accuracy: 80.90%\n"
          ],
          "name": "stdout"
        }
      ]
    },
    {
      "cell_type": "code",
      "metadata": {
        "id": "ZZQOx1SuUrdM",
        "colab_type": "code",
        "colab": {
          "base_uri": "https://localhost:8080/",
          "height": 52
        },
        "outputId": "1354c1d9-6c08-4e42-8124-0c539e862074"
      },
      "source": [
        "# classifier between happy+angry--0  VS.  Neu+sad--1  \n",
        "X_train, X_test, y_train, y_test = load_data(test_size = 0.25, happy=True, anger=True, neural=True ,sad=True)\n",
        "\n",
        "y_train_bin , y_test_bin = [], []  #they binarys & y_train, y_test regulars\n",
        "\n",
        "[ y_train_bin.append(0) if y_train[i][0]=='happy' or y_train[i][0]=='anger' else y_train_bin.append(1) for i in range(len(y_train))]\n",
        "[ y_test_bin.append(0) if y_test[i][0]=='happy' or y_test[i][0]=='anger' else y_test_bin.append(1) for i in range(len(y_test))]\n",
        "\n",
        "classifier = MLPClassifier(alpha = 0.01, batch_size = 256, epsilon = 1e-08, hidden_layer_sizes = (300,), \n",
        "                    learning_rate='adaptive', max_iter = 500)\n",
        "\n",
        "classifier.fit(X_train,y_train_bin)  \n",
        "y_pred=classifier.predict(X_test)\n",
        "accuracy = accuracy_score(y_true = y_test_bin, y_pred = y_pred)\n",
        "print(\"Accuracy: {:.2f}%\".format(accuracy*100))"
      ],
      "execution_count": 11,
      "outputs": [
        {
          "output_type": "stream",
          "text": [
            "['happy', 'anger', 'neural', 'sad']\n",
            "Accuracy: 91.73%\n"
          ],
          "name": "stdout"
        }
      ]
    },
    {
      "cell_type": "code",
      "metadata": {
        "id": "oFy0plqIqCL6",
        "colab_type": "code",
        "colab": {
          "base_uri": "https://localhost:8080/",
          "height": 52
        },
        "outputId": "2f9801ab-17b0-4b0d-fe6a-47d421df6e51"
      },
      "source": [
        "## start of hierarchical !! layer 1 \n",
        "X_hir= []\n",
        "y_true, y_hir_pred, y_hir_bin= [] , [] ,[]\n",
        "\n",
        " #collect all the example to be test\n",
        "[X_hir.append(X_train[i]) for i in range(len(X_train))]\n",
        "[X_hir.append(X_test[i]) for i in range(len(X_test))]\n",
        "\n",
        "[y_true.append(y_train[i]) for i in range(len(y_train))]\n",
        "[y_true.append(y_test[i]) for i in range(len(y_test))]\n",
        "\n",
        "[y_hir_bin.append(y_train_bin[i]) for i in range(len(y_train_bin))]\n",
        "[y_hir_bin.append(y_test_bin[i]) for i in range(len(y_test_bin))]\n",
        "\n",
        "y_hir_pred=classifier.predict(X_hir) #1 classifier\n",
        "print(len(X_hir))\n",
        "print()"
      ],
      "execution_count": 12,
      "outputs": [
        {
          "output_type": "stream",
          "text": [
            "6671\n",
            "\n"
          ],
          "name": "stdout"
        }
      ]
    },
    {
      "cell_type": "code",
      "metadata": {
        "id": "S8R3f18EdWJP",
        "colab_type": "code",
        "colab": {
          "base_uri": "https://localhost:8080/",
          "height": 35
        },
        "outputId": "42016bf3-0d37-4d62-95bb-205750ebfb3f"
      },
      "source": [
        "# layer 2 --- all happy & anger goto classifier 1 , \n",
        "X1 = []  #0 - happy, anger - only examples\n",
        "X2 = []  #1- ...\n",
        "y_true_1= []\n",
        "y_true_2= []\n",
        "y_allPreds, y_allTrue=[],[]\n",
        "\n",
        "for i in range(len(y_hir_pred)):\n",
        "  if y_hir_pred[i]==0:\n",
        "    X1.append(X_hir[i])\n",
        "    y_true_1.append(y_true[i])\n",
        "  else:\n",
        "    X2.append(X_hir[i])\n",
        "    y_true_2.append(y_true[i])\n",
        " \n",
        "y_pred_finally=classifier1.predict(X1)\n",
        "result=classifier1.predict_proba(X1)\n",
        "#print(result)\n",
        "\n",
        "[y_allPreds.append(y_pred_finally[i]) for i in range(len(y_pred_finally))]\n",
        "[y_allTrue.append(y_true_1[i]) for i in range(len(y_true_1))]\n",
        "\n",
        "y_pred_finally=classifier2.predict(X2)\n",
        "result2=classifier2.predict_proba(X2)\n",
        "#print(y_pred_finally)\n",
        "\n",
        "[y_allPreds.append(y_pred_finally[i]) for i in range(len(y_pred_finally))]\n",
        "[y_allTrue.append(y_true_2[i]) for i in range(len(y_true_2))]\n",
        " \n",
        "accuracy = accuracy_score(y_true = y_allTrue, y_pred = y_allPreds)\n",
        "print(\"Accuracy: {:.2f}%\".format(accuracy*100))"
      ],
      "execution_count": 13,
      "outputs": [
        {
          "output_type": "stream",
          "text": [
            "Accuracy: 86.60%\n"
          ],
          "name": "stdout"
        }
      ]
    },
    {
      "cell_type": "code",
      "metadata": {
        "id": "UYAl0_qfjLgi",
        "colab_type": "code",
        "colab": {}
      },
      "source": [
        "from sklearn.metrics import classification_report\n",
        "from sklearn.datasets import make_classification\n",
        "from sklearn.metrics import confusion_matrix"
      ],
      "execution_count": 14,
      "outputs": []
    },
    {
      "cell_type": "code",
      "metadata": {
        "id": "SSrG4bkBijHN",
        "colab_type": "code",
        "colab": {
          "base_uri": "https://localhost:8080/",
          "height": 560
        },
        "outputId": "d9727f52-1449-44ba-a975-ccf57d2d7af7"
      },
      "source": [
        "\n",
        "# Plot non-normalized confusion matrix\n",
        "import seaborn as sn\n",
        "import pandas as pd\n",
        "#!pip install matplotlib==3.1.0 # Solves the confusion matrix gets cut\n",
        "cm = confusion_matrix(y_allTrue, y_allPreds, labels=[\"anger\", \"happy\", \"neutral\", \"sad\"])\n",
        "print(cm)\n",
        "df_cm = pd.DataFrame(cm, range(len(cm)),\n",
        "                  range(len(cm)))\n",
        "\n",
        "plt.figure(figsize=(10,7))\n",
        "sn.set(font_scale=1.4)#for label size\n",
        "sn.heatmap(df_cm, annot=True,annot_kws={\"size\": 14})# font size\n",
        "\n",
        "plt.show()"
      ],
      "execution_count": 15,
      "outputs": [
        {
          "output_type": "stream",
          "text": [
            "[[1633   81   17   16]\n",
            " [ 187 1382   70   81]\n",
            " [  11   30 1206  302]\n",
            " [   4   18   77 1556]]\n"
          ],
          "name": "stdout"
        },
        {
          "output_type": "stream",
          "text": [
            "/usr/local/lib/python3.6/dist-packages/statsmodels/tools/_testing.py:19: FutureWarning: pandas.util.testing is deprecated. Use the functions in the public API at pandas.testing instead.\n",
            "  import pandas.util.testing as tm\n"
          ],
          "name": "stderr"
        },
        {
          "output_type": "display_data",
          "data": {
            "image/png": "[encoded data removed]",
            "text/plain": [
              "<Figure size 720x504 with 2 Axes>"
            ]
          },
          "metadata": {
            "tags": [],
            "needs_background": "light"
          }
        }
      ]
    },
    {
      "cell_type": "code",
      "metadata": {
        "id": "Ga0QsR5tJoEW",
        "colab_type": "code",
        "colab": {}
      },
      "source": [
        "## new example\n",
        "\n",
        "def predict_new_audio(*new_ex):\n",
        "  y_pred=classifier.predict(new_ex)\n",
        "  result=classifier.predict_proba(new_ex)\n",
        "  print(result)\n",
        "\n",
        "  if(y_pred==0):\n",
        "    y_pred_finally=classifier1.predict(new_ex)\n",
        "    result=classifier1.predict_proba(new_ex)\n",
        "    print(result)\n",
        "  else:\n",
        "    y_pred_finally=classifier2.predict(new_ex)\n",
        "    result=classifier2.predict_proba(new_ex)\n",
        "    print(result)\n",
        "  return y_pred_finally"
      ],
      "execution_count": 16,
      "outputs": []
    },
    {
      "cell_type": "code",
      "metadata": {
        "id": "r9HmyZIGd-oA",
        "colab_type": "code",
        "colab": {
          "base_uri": "https://localhost:8080/",
          "height": 35
        },
        "outputId": "5533e774-092d-458a-93b3-1e159681425a"
      },
      "source": [
        "from google.colab import drive\n",
        "drive.mount('/content/drive')"
      ],
      "execution_count": 17,
      "outputs": [
        {
          "output_type": "stream",
          "text": [
            "Drive already mounted at /content/drive; to attempt to forcibly remount, call drive.mount(\"/content/drive\", force_remount=True).\n"
          ],
          "name": "stdout"
        }
      ]
    },
    {
      "cell_type": "code",
      "metadata": {
        "id": "YwXFdnpe3cgx",
        "colab_type": "code",
        "colab": {}
      },
      "source": [
        "feature = extract_features(\"/content/drive/My Drive/try/dana.wav\", mfcc = True, chroma = True, mel = True, contrast= True ,tonnetz= True)"
      ],
      "execution_count": 18,
      "outputs": []
    },
    {
      "cell_type": "code",
      "metadata": {
        "id": "UoTpF8TGItWc",
        "colab_type": "code",
        "colab": {
          "base_uri": "https://localhost:8080/",
          "height": 69
        },
        "outputId": "fefed8e4-d80b-451f-80a5-09f5c85aaafb"
      },
      "source": [
        "label_new = predict_new_audio(feature)\n",
        "print(label_new)"
      ],
      "execution_count": 19,
      "outputs": [
        {
          "output_type": "stream",
          "text": [
            "[[1.0000000e+00 8.0607574e-12]]\n",
            "[[2.69580233e-05 9.99973042e-01]]\n",
            "['happy']\n"
          ],
          "name": "stdout"
        }
      ]
    },
    {
      "cell_type": "code",
      "metadata": {
        "id": "pM1Ws52xzINO",
        "colab_type": "code",
        "colab": {}
      },
      "source": [
        "# import torch\n",
        "# torch.save(classifier,\"/content/drive/My Drive/final project/saveModel/model1\")"
      ],
      "execution_count": 20,
      "outputs": []
    }
  ]
}